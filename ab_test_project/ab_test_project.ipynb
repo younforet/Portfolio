{
 "cells": [
  {
   "cell_type": "markdown",
   "id": "d04da00b",
   "metadata": {},
   "source": [
    "# A/B-тестирование\n",
    "\n",
    "## Введение\n",
    "\n",
    "Задача проекта — провести оценку результатов A/B-теста. В распоряжении есть датасет с действиями пользователей, техническое задание и несколько вспомогательных датасетов.\n",
    "\n",
    "**Техническое задание**\n",
    "\n",
    "- Название теста: `recommender_system_test`;\n",
    "- группы: А — контрольная, B — новая платёжная воронка;\n",
    "- дата запуска: 2020-12-07;\n",
    "- дата остановки набора новых пользователей: 2020-12-21;\n",
    "- дата остановки: 2021-01-04;\n",
    "- аудитория: 15% новых пользователей из региона EU;\n",
    "- назначение теста: тестирование изменений, связанных с внедрением улучшенной рекомендательной системы;\n",
    "- ожидаемое количество участников теста: 6000.\n",
    "- ожидаемый эффект: за 14 дней с момента регистрации пользователи покажут улучшение каждой метрики не менее, чем на 10%:\n",
    "    - конверсии в просмотр карточек товаров — событие `product_page`,\n",
    "    - просмотры корзины — `product_cart`,\n",
    "    - покупки — `purchase`.\n",
    "\n",
    "## Декомпозиция\n",
    "\n",
    "1. Выгрузка и изучение данных\n",
    "2. Предобработка данных\n",
    "    * Изменение типов данных\n",
    "    * Поиск и удаление дубликатов\n",
    "    * Поиск и заполнение пропусков\n",
    "    * Создание сводной таблицы\n",
    "3. Оценка корректности проведения теста\n",
    "    * Соответствие данных ТЗ\n",
    "    * Время проведения теста\n",
    "    * Аудитория теста\n",
    "4. Исследовательский анализ данных\n",
    "    * Распределение количества событий на пользователя\n",
    "    * Распределение количества событий по дням\n",
    "    * Изменения конверсии на разных этапах\n",
    "5. Анализ результатов A/B-тестирования\n",
    "6. Вывод\n",
    "\n",
    "## Выгрузка и изучение данных\n",
    "\n",
    "Импортируем все необходимые библиотеки."
   ]
  },
  {
   "cell_type": "code",
   "execution_count": 1,
   "id": "014caf40",
   "metadata": {},
   "outputs": [],
   "source": [
    "import pandas as pd\n",
    "import numpy as np\n",
    "from statsmodels.stats.proportion import proportions_ztest\n",
    "import matplotlib.pyplot as plt\n",
    "import seaborn as sns"
   ]
  },
  {
   "cell_type": "markdown",
   "id": "c2cd2aa1",
   "metadata": {},
   "source": [
    "Выгрузим данные."
   ]
  },
  {
   "cell_type": "code",
   "execution_count": 2,
   "id": "cb382739",
   "metadata": {},
   "outputs": [],
   "source": [
    "campaings = pd.read_csv('/ab_project_marketing_events.csv')\n",
    "new_users = pd.read_csv('/final_ab_new_users.csv')\n",
    "events = pd.read_csv('/final_ab_events.csv')\n",
    "participants = pd.read_csv('/final_ab_participants.csv')"
   ]
  },
  {
   "cell_type": "markdown",
   "id": "22ad4761",
   "metadata": {},
   "source": [
    "Изучим доступные датасеты. \n",
    " \n",
    "`campaings` — календарь маркетинговых событий на 2020 год.\n",
    "\n",
    "Структура файла:\n",
    "\n",
    "- `name` — название маркетингового события;\n",
    "- `regions` — регионы, в которых будет проводиться рекламная кампания;\n",
    "- `start_dt` — дата начала кампании;\n",
    "- `finish_dt` — дата завершения кампании."
   ]
  },
  {
   "cell_type": "code",
   "execution_count": 3,
   "id": "6f1154f7",
   "metadata": {},
   "outputs": [
    {
     "data": {
      "text/html": [
       "<div>\n",
       "<style scoped>\n",
       "    .dataframe tbody tr th:only-of-type {\n",
       "        vertical-align: middle;\n",
       "    }\n",
       "\n",
       "    .dataframe tbody tr th {\n",
       "        vertical-align: top;\n",
       "    }\n",
       "\n",
       "    .dataframe thead th {\n",
       "        text-align: right;\n",
       "    }\n",
       "</style>\n",
       "<table border=\"1\" class=\"dataframe\">\n",
       "  <thead>\n",
       "    <tr style=\"text-align: right;\">\n",
       "      <th></th>\n",
       "      <th>name</th>\n",
       "      <th>regions</th>\n",
       "      <th>start_dt</th>\n",
       "      <th>finish_dt</th>\n",
       "    </tr>\n",
       "  </thead>\n",
       "  <tbody>\n",
       "    <tr>\n",
       "      <th>0</th>\n",
       "      <td>Christmas&amp;New Year Promo</td>\n",
       "      <td>EU, N.America</td>\n",
       "      <td>2020-12-25</td>\n",
       "      <td>2021-01-03</td>\n",
       "    </tr>\n",
       "    <tr>\n",
       "      <th>1</th>\n",
       "      <td>St. Valentine's Day Giveaway</td>\n",
       "      <td>EU, CIS, APAC, N.America</td>\n",
       "      <td>2020-02-14</td>\n",
       "      <td>2020-02-16</td>\n",
       "    </tr>\n",
       "    <tr>\n",
       "      <th>2</th>\n",
       "      <td>St. Patric's Day Promo</td>\n",
       "      <td>EU, N.America</td>\n",
       "      <td>2020-03-17</td>\n",
       "      <td>2020-03-19</td>\n",
       "    </tr>\n",
       "    <tr>\n",
       "      <th>3</th>\n",
       "      <td>Easter Promo</td>\n",
       "      <td>EU, CIS, APAC, N.America</td>\n",
       "      <td>2020-04-12</td>\n",
       "      <td>2020-04-19</td>\n",
       "    </tr>\n",
       "    <tr>\n",
       "      <th>4</th>\n",
       "      <td>4th of July Promo</td>\n",
       "      <td>N.America</td>\n",
       "      <td>2020-07-04</td>\n",
       "      <td>2020-07-11</td>\n",
       "    </tr>\n",
       "    <tr>\n",
       "      <th>5</th>\n",
       "      <td>Black Friday Ads Campaign</td>\n",
       "      <td>EU, CIS, APAC, N.America</td>\n",
       "      <td>2020-11-26</td>\n",
       "      <td>2020-12-01</td>\n",
       "    </tr>\n",
       "    <tr>\n",
       "      <th>6</th>\n",
       "      <td>Chinese New Year Promo</td>\n",
       "      <td>APAC</td>\n",
       "      <td>2020-01-25</td>\n",
       "      <td>2020-02-07</td>\n",
       "    </tr>\n",
       "    <tr>\n",
       "      <th>7</th>\n",
       "      <td>Labor day (May 1st) Ads Campaign</td>\n",
       "      <td>EU, CIS, APAC</td>\n",
       "      <td>2020-05-01</td>\n",
       "      <td>2020-05-03</td>\n",
       "    </tr>\n",
       "    <tr>\n",
       "      <th>8</th>\n",
       "      <td>International Women's Day Promo</td>\n",
       "      <td>EU, CIS, APAC</td>\n",
       "      <td>2020-03-08</td>\n",
       "      <td>2020-03-10</td>\n",
       "    </tr>\n",
       "    <tr>\n",
       "      <th>9</th>\n",
       "      <td>Victory Day CIS (May 9th) Event</td>\n",
       "      <td>CIS</td>\n",
       "      <td>2020-05-09</td>\n",
       "      <td>2020-05-11</td>\n",
       "    </tr>\n",
       "    <tr>\n",
       "      <th>10</th>\n",
       "      <td>CIS New Year Gift Lottery</td>\n",
       "      <td>CIS</td>\n",
       "      <td>2020-12-30</td>\n",
       "      <td>2021-01-07</td>\n",
       "    </tr>\n",
       "    <tr>\n",
       "      <th>11</th>\n",
       "      <td>Dragon Boat Festival Giveaway</td>\n",
       "      <td>APAC</td>\n",
       "      <td>2020-06-25</td>\n",
       "      <td>2020-07-01</td>\n",
       "    </tr>\n",
       "    <tr>\n",
       "      <th>12</th>\n",
       "      <td>Single's Day Gift Promo</td>\n",
       "      <td>APAC</td>\n",
       "      <td>2020-11-11</td>\n",
       "      <td>2020-11-12</td>\n",
       "    </tr>\n",
       "    <tr>\n",
       "      <th>13</th>\n",
       "      <td>Chinese Moon Festival</td>\n",
       "      <td>APAC</td>\n",
       "      <td>2020-10-01</td>\n",
       "      <td>2020-10-07</td>\n",
       "    </tr>\n",
       "  </tbody>\n",
       "</table>\n",
       "</div>"
      ],
      "text/plain": [
       "                                name                   regions    start_dt  \\\n",
       "0           Christmas&New Year Promo             EU, N.America  2020-12-25   \n",
       "1       St. Valentine's Day Giveaway  EU, CIS, APAC, N.America  2020-02-14   \n",
       "2             St. Patric's Day Promo             EU, N.America  2020-03-17   \n",
       "3                       Easter Promo  EU, CIS, APAC, N.America  2020-04-12   \n",
       "4                  4th of July Promo                 N.America  2020-07-04   \n",
       "5          Black Friday Ads Campaign  EU, CIS, APAC, N.America  2020-11-26   \n",
       "6             Chinese New Year Promo                      APAC  2020-01-25   \n",
       "7   Labor day (May 1st) Ads Campaign             EU, CIS, APAC  2020-05-01   \n",
       "8    International Women's Day Promo             EU, CIS, APAC  2020-03-08   \n",
       "9    Victory Day CIS (May 9th) Event                       CIS  2020-05-09   \n",
       "10         CIS New Year Gift Lottery                       CIS  2020-12-30   \n",
       "11     Dragon Boat Festival Giveaway                      APAC  2020-06-25   \n",
       "12           Single's Day Gift Promo                      APAC  2020-11-11   \n",
       "13             Chinese Moon Festival                      APAC  2020-10-01   \n",
       "\n",
       "     finish_dt  \n",
       "0   2021-01-03  \n",
       "1   2020-02-16  \n",
       "2   2020-03-19  \n",
       "3   2020-04-19  \n",
       "4   2020-07-11  \n",
       "5   2020-12-01  \n",
       "6   2020-02-07  \n",
       "7   2020-05-03  \n",
       "8   2020-03-10  \n",
       "9   2020-05-11  \n",
       "10  2021-01-07  \n",
       "11  2020-07-01  \n",
       "12  2020-11-12  \n",
       "13  2020-10-07  "
      ]
     },
     "execution_count": 3,
     "metadata": {},
     "output_type": "execute_result"
    }
   ],
   "source": [
    "campaings"
   ]
  },
  {
   "cell_type": "code",
   "execution_count": 4,
   "id": "55a0308e",
   "metadata": {},
   "outputs": [
    {
     "name": "stdout",
     "output_type": "stream",
     "text": [
      "<class 'pandas.core.frame.DataFrame'>\n",
      "RangeIndex: 14 entries, 0 to 13\n",
      "Data columns (total 4 columns):\n",
      " #   Column     Non-Null Count  Dtype \n",
      "---  ------     --------------  ----- \n",
      " 0   name       14 non-null     object\n",
      " 1   regions    14 non-null     object\n",
      " 2   start_dt   14 non-null     object\n",
      " 3   finish_dt  14 non-null     object\n",
      "dtypes: object(4)\n",
      "memory usage: 576.0+ bytes\n"
     ]
    }
   ],
   "source": [
    "campaings.info()"
   ]
  },
  {
   "cell_type": "markdown",
   "id": "70e8f9fa",
   "metadata": {},
   "source": [
    "В 2020 были начаты 14 маркетинговых событий, 13 из них завершились.\n",
    "\n",
    "`new_users` — пользователи, зарегистрировавшиеся с 7 по 21 декабря 2020 года.\n",
    "\n",
    "Структура файла:\n",
    "\n",
    "- `user_id` — идентификатор пользователя;\n",
    "- `first_date` — дата регистрации;\n",
    "- `region` — регион пользователя;\n",
    "- `device` — устройство, с которого происходила регистрация."
   ]
  },
  {
   "cell_type": "code",
   "execution_count": 5,
   "id": "88c065e2",
   "metadata": {},
   "outputs": [
    {
     "data": {
      "text/html": [
       "<div>\n",
       "<style scoped>\n",
       "    .dataframe tbody tr th:only-of-type {\n",
       "        vertical-align: middle;\n",
       "    }\n",
       "\n",
       "    .dataframe tbody tr th {\n",
       "        vertical-align: top;\n",
       "    }\n",
       "\n",
       "    .dataframe thead th {\n",
       "        text-align: right;\n",
       "    }\n",
       "</style>\n",
       "<table border=\"1\" class=\"dataframe\">\n",
       "  <thead>\n",
       "    <tr style=\"text-align: right;\">\n",
       "      <th></th>\n",
       "      <th>user_id</th>\n",
       "      <th>first_date</th>\n",
       "      <th>region</th>\n",
       "      <th>device</th>\n",
       "    </tr>\n",
       "  </thead>\n",
       "  <tbody>\n",
       "    <tr>\n",
       "      <th>0</th>\n",
       "      <td>D72A72121175D8BE</td>\n",
       "      <td>2020-12-07</td>\n",
       "      <td>EU</td>\n",
       "      <td>PC</td>\n",
       "    </tr>\n",
       "    <tr>\n",
       "      <th>1</th>\n",
       "      <td>F1C668619DFE6E65</td>\n",
       "      <td>2020-12-07</td>\n",
       "      <td>N.America</td>\n",
       "      <td>Android</td>\n",
       "    </tr>\n",
       "    <tr>\n",
       "      <th>2</th>\n",
       "      <td>2E1BF1D4C37EA01F</td>\n",
       "      <td>2020-12-07</td>\n",
       "      <td>EU</td>\n",
       "      <td>PC</td>\n",
       "    </tr>\n",
       "    <tr>\n",
       "      <th>3</th>\n",
       "      <td>50734A22C0C63768</td>\n",
       "      <td>2020-12-07</td>\n",
       "      <td>EU</td>\n",
       "      <td>iPhone</td>\n",
       "    </tr>\n",
       "    <tr>\n",
       "      <th>4</th>\n",
       "      <td>E1BDDCE0DAFA2679</td>\n",
       "      <td>2020-12-07</td>\n",
       "      <td>N.America</td>\n",
       "      <td>iPhone</td>\n",
       "    </tr>\n",
       "  </tbody>\n",
       "</table>\n",
       "</div>"
      ],
      "text/plain": [
       "            user_id  first_date     region   device\n",
       "0  D72A72121175D8BE  2020-12-07         EU       PC\n",
       "1  F1C668619DFE6E65  2020-12-07  N.America  Android\n",
       "2  2E1BF1D4C37EA01F  2020-12-07         EU       PC\n",
       "3  50734A22C0C63768  2020-12-07         EU   iPhone\n",
       "4  E1BDDCE0DAFA2679  2020-12-07  N.America   iPhone"
      ]
     },
     "execution_count": 5,
     "metadata": {},
     "output_type": "execute_result"
    }
   ],
   "source": [
    "new_users.head()"
   ]
  },
  {
   "cell_type": "code",
   "execution_count": 6,
   "id": "7a6fd757",
   "metadata": {},
   "outputs": [
    {
     "name": "stdout",
     "output_type": "stream",
     "text": [
      "<class 'pandas.core.frame.DataFrame'>\n",
      "RangeIndex: 61733 entries, 0 to 61732\n",
      "Data columns (total 4 columns):\n",
      " #   Column      Non-Null Count  Dtype \n",
      "---  ------      --------------  ----- \n",
      " 0   user_id     61733 non-null  object\n",
      " 1   first_date  61733 non-null  object\n",
      " 2   region      61733 non-null  object\n",
      " 3   device      61733 non-null  object\n",
      "dtypes: object(4)\n",
      "memory usage: 1.9+ MB\n"
     ]
    }
   ],
   "source": [
    "new_users.info()"
   ]
  },
  {
   "cell_type": "markdown",
   "id": "9d9fc912",
   "metadata": {},
   "source": [
    "С 7 по 21 декабря 2020 года зарегистрировались 61733 пользователя.\n",
    "\n",
    "`events` — действия новых пользователей в период с 7 декабря 2020 по 4 января 2021 года.\n",
    "\n",
    "Структура файла:\n",
    "\n",
    "- `user_id` — идентификатор пользователя;\n",
    "- `event_dt` — дата и время события;\n",
    "- `event_name` — тип события;\n",
    "- `details` — дополнительные данные о событии. Например, для покупок, `purchase`, в этом поле хранится стоимость покупки в долларах."
   ]
  },
  {
   "cell_type": "code",
   "execution_count": 7,
   "id": "4a8610c8",
   "metadata": {},
   "outputs": [
    {
     "data": {
      "text/html": [
       "<div>\n",
       "<style scoped>\n",
       "    .dataframe tbody tr th:only-of-type {\n",
       "        vertical-align: middle;\n",
       "    }\n",
       "\n",
       "    .dataframe tbody tr th {\n",
       "        vertical-align: top;\n",
       "    }\n",
       "\n",
       "    .dataframe thead th {\n",
       "        text-align: right;\n",
       "    }\n",
       "</style>\n",
       "<table border=\"1\" class=\"dataframe\">\n",
       "  <thead>\n",
       "    <tr style=\"text-align: right;\">\n",
       "      <th></th>\n",
       "      <th>user_id</th>\n",
       "      <th>event_dt</th>\n",
       "      <th>event_name</th>\n",
       "      <th>details</th>\n",
       "    </tr>\n",
       "  </thead>\n",
       "  <tbody>\n",
       "    <tr>\n",
       "      <th>0</th>\n",
       "      <td>E1BDDCE0DAFA2679</td>\n",
       "      <td>2020-12-07 20:22:03</td>\n",
       "      <td>purchase</td>\n",
       "      <td>99.99</td>\n",
       "    </tr>\n",
       "    <tr>\n",
       "      <th>1</th>\n",
       "      <td>7B6452F081F49504</td>\n",
       "      <td>2020-12-07 09:22:53</td>\n",
       "      <td>purchase</td>\n",
       "      <td>9.99</td>\n",
       "    </tr>\n",
       "    <tr>\n",
       "      <th>2</th>\n",
       "      <td>9CD9F34546DF254C</td>\n",
       "      <td>2020-12-07 12:59:29</td>\n",
       "      <td>purchase</td>\n",
       "      <td>4.99</td>\n",
       "    </tr>\n",
       "    <tr>\n",
       "      <th>3</th>\n",
       "      <td>96F27A054B191457</td>\n",
       "      <td>2020-12-07 04:02:40</td>\n",
       "      <td>purchase</td>\n",
       "      <td>4.99</td>\n",
       "    </tr>\n",
       "    <tr>\n",
       "      <th>4</th>\n",
       "      <td>1FD7660FDF94CA1F</td>\n",
       "      <td>2020-12-07 10:15:09</td>\n",
       "      <td>purchase</td>\n",
       "      <td>4.99</td>\n",
       "    </tr>\n",
       "  </tbody>\n",
       "</table>\n",
       "</div>"
      ],
      "text/plain": [
       "            user_id             event_dt event_name  details\n",
       "0  E1BDDCE0DAFA2679  2020-12-07 20:22:03   purchase    99.99\n",
       "1  7B6452F081F49504  2020-12-07 09:22:53   purchase     9.99\n",
       "2  9CD9F34546DF254C  2020-12-07 12:59:29   purchase     4.99\n",
       "3  96F27A054B191457  2020-12-07 04:02:40   purchase     4.99\n",
       "4  1FD7660FDF94CA1F  2020-12-07 10:15:09   purchase     4.99"
      ]
     },
     "execution_count": 7,
     "metadata": {},
     "output_type": "execute_result"
    }
   ],
   "source": [
    "events.head()"
   ]
  },
  {
   "cell_type": "code",
   "execution_count": 8,
   "id": "4f371f35",
   "metadata": {
    "scrolled": true
   },
   "outputs": [
    {
     "name": "stdout",
     "output_type": "stream",
     "text": [
      "<class 'pandas.core.frame.DataFrame'>\n",
      "RangeIndex: 440317 entries, 0 to 440316\n",
      "Data columns (total 4 columns):\n",
      " #   Column      Non-Null Count   Dtype  \n",
      "---  ------      --------------   -----  \n",
      " 0   user_id     440317 non-null  object \n",
      " 1   event_dt    440317 non-null  object \n",
      " 2   event_name  440317 non-null  object \n",
      " 3   details     62740 non-null   float64\n",
      "dtypes: float64(1), object(3)\n",
      "memory usage: 13.4+ MB\n"
     ]
    }
   ],
   "source": [
    "events.info()"
   ]
  },
  {
   "cell_type": "markdown",
   "id": "7a80277f",
   "metadata": {},
   "source": [
    "В таблице содержится информация о 440317 событиях. Не у всех из них указаны дополнительные данные. Судя по типу данных в столбце `details` в таблице есть только стоимость покупок.\n",
    "\n",
    "`participants` — таблица участников тестов.\n",
    "\n",
    "Структура файла:\n",
    "\n",
    "- `user_id` — идентификатор пользователя;\n",
    "- `ab_test` — название теста;\n",
    "- `group` — группа пользователя."
   ]
  },
  {
   "cell_type": "code",
   "execution_count": 9,
   "id": "b449b5af",
   "metadata": {},
   "outputs": [
    {
     "data": {
      "text/html": [
       "<div>\n",
       "<style scoped>\n",
       "    .dataframe tbody tr th:only-of-type {\n",
       "        vertical-align: middle;\n",
       "    }\n",
       "\n",
       "    .dataframe tbody tr th {\n",
       "        vertical-align: top;\n",
       "    }\n",
       "\n",
       "    .dataframe thead th {\n",
       "        text-align: right;\n",
       "    }\n",
       "</style>\n",
       "<table border=\"1\" class=\"dataframe\">\n",
       "  <thead>\n",
       "    <tr style=\"text-align: right;\">\n",
       "      <th></th>\n",
       "      <th>user_id</th>\n",
       "      <th>group</th>\n",
       "      <th>ab_test</th>\n",
       "    </tr>\n",
       "  </thead>\n",
       "  <tbody>\n",
       "    <tr>\n",
       "      <th>0</th>\n",
       "      <td>D1ABA3E2887B6A73</td>\n",
       "      <td>A</td>\n",
       "      <td>recommender_system_test</td>\n",
       "    </tr>\n",
       "    <tr>\n",
       "      <th>1</th>\n",
       "      <td>A7A3664BD6242119</td>\n",
       "      <td>A</td>\n",
       "      <td>recommender_system_test</td>\n",
       "    </tr>\n",
       "    <tr>\n",
       "      <th>2</th>\n",
       "      <td>DABC14FDDFADD29E</td>\n",
       "      <td>A</td>\n",
       "      <td>recommender_system_test</td>\n",
       "    </tr>\n",
       "    <tr>\n",
       "      <th>3</th>\n",
       "      <td>04988C5DF189632E</td>\n",
       "      <td>A</td>\n",
       "      <td>recommender_system_test</td>\n",
       "    </tr>\n",
       "    <tr>\n",
       "      <th>4</th>\n",
       "      <td>482F14783456D21B</td>\n",
       "      <td>B</td>\n",
       "      <td>recommender_system_test</td>\n",
       "    </tr>\n",
       "  </tbody>\n",
       "</table>\n",
       "</div>"
      ],
      "text/plain": [
       "            user_id group                  ab_test\n",
       "0  D1ABA3E2887B6A73     A  recommender_system_test\n",
       "1  A7A3664BD6242119     A  recommender_system_test\n",
       "2  DABC14FDDFADD29E     A  recommender_system_test\n",
       "3  04988C5DF189632E     A  recommender_system_test\n",
       "4  482F14783456D21B     B  recommender_system_test"
      ]
     },
     "execution_count": 9,
     "metadata": {},
     "output_type": "execute_result"
    }
   ],
   "source": [
    "participants.head()"
   ]
  },
  {
   "cell_type": "code",
   "execution_count": 10,
   "id": "dc1382f6",
   "metadata": {},
   "outputs": [
    {
     "name": "stdout",
     "output_type": "stream",
     "text": [
      "<class 'pandas.core.frame.DataFrame'>\n",
      "RangeIndex: 18268 entries, 0 to 18267\n",
      "Data columns (total 3 columns):\n",
      " #   Column   Non-Null Count  Dtype \n",
      "---  ------   --------------  ----- \n",
      " 0   user_id  18268 non-null  object\n",
      " 1   group    18268 non-null  object\n",
      " 2   ab_test  18268 non-null  object\n",
      "dtypes: object(3)\n",
      "memory usage: 428.3+ KB\n"
     ]
    }
   ],
   "source": [
    "participants.info()"
   ]
  },
  {
   "cell_type": "markdown",
   "id": "7f5dbd9b",
   "metadata": {},
   "source": [
    "Всего в данных содержится информация о 18268 участниках тестов."
   ]
  },
  {
   "cell_type": "code",
   "execution_count": 11,
   "id": "de385fcc",
   "metadata": {},
   "outputs": [
    {
     "name": "stdout",
     "output_type": "stream",
     "text": [
      "Новых пользователей в new_users 61733\n",
      "Новых пользователей в events 58703\n"
     ]
    }
   ],
   "source": [
    "print('Новых пользователей в new_users', new_users['user_id'].unique().size)\n",
    "print('Новых пользователей в events', events['user_id'].unique().size)"
   ]
  },
  {
   "cell_type": "markdown",
   "id": "933c9b54",
   "metadata": {},
   "source": [
    "Количество пользователей в фреймах не совпадает. Необходимо это исследовать."
   ]
  },
  {
   "cell_type": "code",
   "execution_count": 12,
   "id": "3afb2747",
   "metadata": {},
   "outputs": [
    {
     "name": "stdout",
     "output_type": "stream",
     "text": [
      "Начало периода в new_users 2020-12-07\n",
      "Конец периода в new_users 2020-12-23\n"
     ]
    }
   ],
   "source": [
    "print('Начало периода в new_users', new_users['first_date'].min())\n",
    "print('Конец периода в new_users', new_users['first_date'].max())"
   ]
  },
  {
   "cell_type": "markdown",
   "id": "5842e8cd",
   "metadata": {},
   "source": [
    "Данные по пользователям предоставлены не до 21 декабря, а до 23."
   ]
  },
  {
   "cell_type": "code",
   "execution_count": 13,
   "id": "87f84d54",
   "metadata": {},
   "outputs": [
    {
     "name": "stdout",
     "output_type": "stream",
     "text": [
      "Начало периода в events 2020-12-07 00:00:33\n",
      "Конец периода в events 2020-12-30 23:36:33\n"
     ]
    }
   ],
   "source": [
    "print('Начало периода в events', events['event_dt'].min())\n",
    "print('Конец периода в events', events['event_dt'].max())"
   ]
  },
  {
   "cell_type": "markdown",
   "id": "8633864d",
   "metadata": {},
   "source": [
    "Последнее событие напротив произошло на 5 дней раньше, чем должен был закончиться тест."
   ]
  },
  {
   "cell_type": "code",
   "execution_count": 14,
   "id": "8c6bb3f0",
   "metadata": {},
   "outputs": [
    {
     "data": {
      "text/plain": [
       "array(['EU', 'N.America', 'APAC', 'CIS'], dtype=object)"
      ]
     },
     "execution_count": 14,
     "metadata": {},
     "output_type": "execute_result"
    }
   ],
   "source": [
    "new_users['region'].unique()"
   ]
  },
  {
   "cell_type": "markdown",
   "id": "472cdec2",
   "metadata": {},
   "source": [
    "Представлены 4 региона - Европа, Северная Америка, Азиатско-Тихоокеанский регион и СНГ."
   ]
  },
  {
   "cell_type": "code",
   "execution_count": 15,
   "id": "1dd7f7c6",
   "metadata": {},
   "outputs": [
    {
     "data": {
      "text/plain": [
       "array(['purchase', 'product_cart', 'product_page', 'login'], dtype=object)"
      ]
     },
     "execution_count": 15,
     "metadata": {},
     "output_type": "execute_result"
    }
   ],
   "source": [
    "events['event_name'].unique()"
   ]
  },
  {
   "cell_type": "markdown",
   "id": "8fe1d346",
   "metadata": {},
   "source": [
    "Есть 4 типа событий - покупка, переход в корзину, страница продукта и логин."
   ]
  },
  {
   "cell_type": "code",
   "execution_count": 16,
   "id": "cdde0f34",
   "metadata": {},
   "outputs": [
    {
     "data": {
      "text/plain": [
       "array(['recommender_system_test', 'interface_eu_test'], dtype=object)"
      ]
     },
     "execution_count": 16,
     "metadata": {},
     "output_type": "execute_result"
    }
   ],
   "source": [
    "participants['ab_test'].unique()"
   ]
  },
  {
   "cell_type": "markdown",
   "id": "c01066d5",
   "metadata": {},
   "source": [
    "Кроме анализируемого `recommender_system_test`, есть данные о тесте `interface_eu_test`.\n",
    "\n",
    "## Предобработка данных\n",
    "\n",
    "### Изменение типов данных\n",
    "\n",
    "Приведем столбцы с датами и временем к типу datetime."
   ]
  },
  {
   "cell_type": "code",
   "execution_count": 17,
   "id": "64efa3a4",
   "metadata": {},
   "outputs": [],
   "source": [
    "campaings['start_dt'] = pd.to_datetime(campaings['start_dt'])\n",
    "campaings['finish_dt'] = pd.to_datetime(campaings['finish_dt'])\n",
    "new_users['first_date'] = pd.to_datetime(new_users['first_date'])\n",
    "events['event_dt'] = pd.to_datetime(events['event_dt'], format='%Y-%m-%d %H:%M:%S') # создадим также столбец с датой события"
   ]
  },
  {
   "cell_type": "markdown",
   "id": "3e8eb74f",
   "metadata": {},
   "source": [
    "### Поиск и удаление дубликатов"
   ]
  },
  {
   "cell_type": "code",
   "execution_count": 18,
   "id": "4b7c781d",
   "metadata": {},
   "outputs": [
    {
     "data": {
      "text/plain": [
       "0"
      ]
     },
     "metadata": {},
     "output_type": "display_data"
    },
    {
     "data": {
      "text/plain": [
       "0"
      ]
     },
     "metadata": {},
     "output_type": "display_data"
    }
   ],
   "source": [
    "display(campaings.duplicated().sum(), campaings['name'].duplicated().sum())"
   ]
  },
  {
   "cell_type": "code",
   "execution_count": 19,
   "id": "f70e3c7c",
   "metadata": {},
   "outputs": [
    {
     "data": {
      "text/plain": [
       "0"
      ]
     },
     "metadata": {},
     "output_type": "display_data"
    },
    {
     "data": {
      "text/plain": [
       "0"
      ]
     },
     "metadata": {},
     "output_type": "display_data"
    }
   ],
   "source": [
    "display(new_users.duplicated().sum(), new_users['user_id'].duplicated().sum())"
   ]
  },
  {
   "cell_type": "code",
   "execution_count": 20,
   "id": "55dec5cc",
   "metadata": {},
   "outputs": [
    {
     "data": {
      "text/plain": [
       "0"
      ]
     },
     "execution_count": 20,
     "metadata": {},
     "output_type": "execute_result"
    }
   ],
   "source": [
    "events.duplicated().sum()"
   ]
  },
  {
   "cell_type": "markdown",
   "id": "2cc03af9",
   "metadata": {},
   "source": [
    "В таблицах с маркетинговыми кампаниями, новыми пользователями и событиями дубликатов нет."
   ]
  },
  {
   "cell_type": "code",
   "execution_count": 21,
   "id": "5564a293",
   "metadata": {
    "scrolled": true
   },
   "outputs": [
    {
     "data": {
      "text/plain": [
       "0"
      ]
     },
     "metadata": {},
     "output_type": "display_data"
    },
    {
     "data": {
      "text/plain": [
       "1602"
      ]
     },
     "metadata": {},
     "output_type": "display_data"
    }
   ],
   "source": [
    "display(participants.duplicated().sum(), participants['user_id'].duplicated().sum())"
   ]
  },
  {
   "cell_type": "markdown",
   "id": "59103fe2",
   "metadata": {},
   "source": [
    "В таблице с участниками тестов дубликатов нет, но 1602 пользователя приняли участие сразу в двух тестах.\n",
    "\n",
    "Проведем z-тесты, чтобы узнать, равны ли пропорции пользователей, которые участвовали во втором тесте.\n",
    "\n",
    "Нулевая гипотеза: пропорции пользователей из групп \"А\" и \"B\" первого теста, которые участвовали в группах \"А\" и \"В\" второго теста, равны.\n",
    "\n",
    "Альтернативная: пропорции отличаются."
   ]
  },
  {
   "cell_type": "code",
   "execution_count": 22,
   "id": "2e051688",
   "metadata": {},
   "outputs": [
    {
     "name": "stdout",
     "output_type": "stream",
     "text": [
      "0.2567951565075627\n",
      "Не получилось отвергнуть нулевую гипотезу\n"
     ]
    }
   ],
   "source": [
    "# число пересекающихся пользователей в группах \"А\" первого и второго теста\n",
    "count_a = np.intersect1d(\n",
    "    participants.query('ab_test == \"recommender_system_test\" and group == \"A\"'), \n",
    "    participants.query('ab_test == \"interface_eu_test\" and group == \"A\"')).size\n",
    "# общее число пользователей группы \"А\" первого теста\n",
    "nobs_a = participants.query('ab_test == \"recommender_system_test\" and group == \"A\"')['user_id'].count()\n",
    "# число пересекающихся пользователей в группе \"В\" первого теста и группе \"А\" второго теста\n",
    "count_b = np.intersect1d(\n",
    "    participants.query('ab_test == \"recommender_system_test\" and group == \"B\"'), \n",
    "    participants.query('ab_test == \"interface_eu_test\" and group == \"A\"')).size\n",
    "# общее число пользователей группы \"В\" первого теста\n",
    "nobs_b = participants.query('ab_test == \"recommender_system_test\" and group == \"B\"')['user_id'].count()\n",
    "\n",
    "stat, pval = proportions_ztest([count_a, count_b], [nobs_a, nobs_b])\n",
    "alpha = 0.05 # уровень значимости\n",
    "\n",
    "print(pval) \n",
    "if pval < alpha: # условный оператор с выводом строки с ответом\n",
    "    print('Отвергаем нулевую гипотезу')\n",
    "else:\n",
    "    print('Не получилось отвергнуть нулевую гипотезу')"
   ]
  },
  {
   "cell_type": "code",
   "execution_count": 23,
   "id": "ea3065de",
   "metadata": {},
   "outputs": [
    {
     "name": "stdout",
     "output_type": "stream",
     "text": [
      "0.519020206197627\n",
      "Не получилось отвергнуть нулевую гипотезу\n"
     ]
    }
   ],
   "source": [
    "# этот же z-тест для группы \"В\" второго A/B-теста\n",
    "count_a = np.intersect1d(\n",
    "    participants.query('ab_test == \"recommender_system_test\" and group == \"A\"'), \n",
    "    participants.query('ab_test == \"interface_eu_test\" and group == \"B\"')).size\n",
    "\n",
    "nobs_a = participants.query('ab_test == \"recommender_system_test\" and group == \"A\"')['user_id'].count()\n",
    "\n",
    "count_b = np.intersect1d(\n",
    "    participants.query('ab_test == \"recommender_system_test\" and group == \"B\"'), \n",
    "    participants.query('ab_test == \"interface_eu_test\" and group == \"B\"')).size\n",
    "\n",
    "nobs_b = participants.query('ab_test == \"recommender_system_test\" and group == \"B\"')['user_id'].count()\n",
    "\n",
    "stat, pval = proportions_ztest([count_a, count_b], [nobs_a, nobs_b])\n",
    "alpha = 0.05\n",
    "\n",
    "print(pval) \n",
    "if pval < alpha:\n",
    "    print('Отвергаем нулевую гипотезу')\n",
    "else:\n",
    "    print('Не получилось отвергнуть нулевую гипотезу')"
   ]
  },
  {
   "cell_type": "markdown",
   "id": "6b010d38",
   "metadata": {},
   "source": [
    "С большой уверенностью можно утверждать, что пропорции равны. Это значит, что изменения второго теста не оказали влияния на соотношение конверсии в группах \"А\" и \"Б\", и пересекающихся пользователей можно оставить в данных для анализа.\n",
    "\n",
    "### Поиск и заполнение пропусков"
   ]
  },
  {
   "cell_type": "code",
   "execution_count": 24,
   "id": "1dd4ffe1",
   "metadata": {},
   "outputs": [
    {
     "data": {
      "text/plain": [
       "user_id            0\n",
       "event_dt           0\n",
       "event_name         0\n",
       "details       377577\n",
       "dtype: int64"
      ]
     },
     "execution_count": 24,
     "metadata": {},
     "output_type": "execute_result"
    }
   ],
   "source": [
    "events.isna().sum()"
   ]
  },
  {
   "cell_type": "markdown",
   "id": "49f0f758",
   "metadata": {},
   "source": [
    "Как и было отмечено выше, в таблице `events` не заполнены подробности для большинства событий."
   ]
  },
  {
   "cell_type": "code",
   "execution_count": 25,
   "id": "949df16e",
   "metadata": {},
   "outputs": [
    {
     "data": {
      "text/plain": [
       "user_id       0\n",
       "event_dt      0\n",
       "event_name    0\n",
       "details       0\n",
       "dtype: int64"
      ]
     },
     "metadata": {},
     "output_type": "display_data"
    },
    {
     "data": {
      "text/plain": [
       "user_id            0\n",
       "event_dt           0\n",
       "event_name         0\n",
       "details       377577\n",
       "dtype: int64"
      ]
     },
     "metadata": {},
     "output_type": "display_data"
    }
   ],
   "source": [
    "display(events.query('event_name == \"purchase\"').isna().sum())\n",
    "display(events.query('event_name != \"purchase\"').isna().sum())"
   ]
  },
  {
   "cell_type": "markdown",
   "id": "01430707",
   "metadata": {},
   "source": [
    "Детали, а именно стоимость покупки, указана лишь для событий типа `purchase`. \n",
    "\n",
    "Пропуски в данном столбце заполнять нецелесообразно."
   ]
  },
  {
   "cell_type": "code",
   "execution_count": 26,
   "id": "0c699f05",
   "metadata": {},
   "outputs": [
    {
     "data": {
      "text/plain": [
       "name         0\n",
       "regions      0\n",
       "start_dt     0\n",
       "finish_dt    0\n",
       "dtype: int64"
      ]
     },
     "execution_count": 26,
     "metadata": {},
     "output_type": "execute_result"
    }
   ],
   "source": [
    "campaings.isna().sum()"
   ]
  },
  {
   "cell_type": "code",
   "execution_count": 27,
   "id": "694a9c2e",
   "metadata": {},
   "outputs": [
    {
     "data": {
      "text/plain": [
       "user_id       0\n",
       "first_date    0\n",
       "region        0\n",
       "device        0\n",
       "dtype: int64"
      ]
     },
     "execution_count": 27,
     "metadata": {},
     "output_type": "execute_result"
    }
   ],
   "source": [
    "new_users.isna().sum()"
   ]
  },
  {
   "cell_type": "code",
   "execution_count": 28,
   "id": "77499870",
   "metadata": {},
   "outputs": [
    {
     "data": {
      "text/plain": [
       "user_id    0\n",
       "group      0\n",
       "ab_test    0\n",
       "dtype: int64"
      ]
     },
     "execution_count": 28,
     "metadata": {},
     "output_type": "execute_result"
    }
   ],
   "source": [
    "participants.isna().sum()"
   ]
  },
  {
   "cell_type": "markdown",
   "id": "326c9d6b",
   "metadata": {},
   "source": [
    "В остальных фреймах пропусков не обнаружено.\n",
    "\n",
    "### Создание сводной таблицы\n",
    "\n",
    "Объединим доступные по тесту `recommender_system_test` данные в одну таблицу."
   ]
  },
  {
   "cell_type": "code",
   "execution_count": 29,
   "id": "cd3d98c3",
   "metadata": {
    "scrolled": false
   },
   "outputs": [
    {
     "data": {
      "text/html": [
       "<div>\n",
       "<style scoped>\n",
       "    .dataframe tbody tr th:only-of-type {\n",
       "        vertical-align: middle;\n",
       "    }\n",
       "\n",
       "    .dataframe tbody tr th {\n",
       "        vertical-align: top;\n",
       "    }\n",
       "\n",
       "    .dataframe thead th {\n",
       "        text-align: right;\n",
       "    }\n",
       "</style>\n",
       "<table border=\"1\" class=\"dataframe\">\n",
       "  <thead>\n",
       "    <tr style=\"text-align: right;\">\n",
       "      <th></th>\n",
       "      <th>user_id</th>\n",
       "      <th>group</th>\n",
       "      <th>reg_dt</th>\n",
       "      <th>region</th>\n",
       "      <th>device</th>\n",
       "      <th>event_dt</th>\n",
       "      <th>event_name</th>\n",
       "      <th>event_date</th>\n",
       "    </tr>\n",
       "  </thead>\n",
       "  <tbody>\n",
       "    <tr>\n",
       "      <th>0</th>\n",
       "      <td>D1ABA3E2887B6A73</td>\n",
       "      <td>A</td>\n",
       "      <td>2020-12-07</td>\n",
       "      <td>EU</td>\n",
       "      <td>PC</td>\n",
       "      <td>2020-12-07 14:43:27</td>\n",
       "      <td>purchase</td>\n",
       "      <td>2020-12-07</td>\n",
       "    </tr>\n",
       "    <tr>\n",
       "      <th>1</th>\n",
       "      <td>D1ABA3E2887B6A73</td>\n",
       "      <td>A</td>\n",
       "      <td>2020-12-07</td>\n",
       "      <td>EU</td>\n",
       "      <td>PC</td>\n",
       "      <td>2020-12-25 00:04:56</td>\n",
       "      <td>purchase</td>\n",
       "      <td>2020-12-25</td>\n",
       "    </tr>\n",
       "    <tr>\n",
       "      <th>2</th>\n",
       "      <td>D1ABA3E2887B6A73</td>\n",
       "      <td>A</td>\n",
       "      <td>2020-12-07</td>\n",
       "      <td>EU</td>\n",
       "      <td>PC</td>\n",
       "      <td>2020-12-07 14:43:29</td>\n",
       "      <td>product_cart</td>\n",
       "      <td>2020-12-07</td>\n",
       "    </tr>\n",
       "    <tr>\n",
       "      <th>3</th>\n",
       "      <td>D1ABA3E2887B6A73</td>\n",
       "      <td>A</td>\n",
       "      <td>2020-12-07</td>\n",
       "      <td>EU</td>\n",
       "      <td>PC</td>\n",
       "      <td>2020-12-25 00:04:57</td>\n",
       "      <td>product_cart</td>\n",
       "      <td>2020-12-25</td>\n",
       "    </tr>\n",
       "    <tr>\n",
       "      <th>4</th>\n",
       "      <td>D1ABA3E2887B6A73</td>\n",
       "      <td>A</td>\n",
       "      <td>2020-12-07</td>\n",
       "      <td>EU</td>\n",
       "      <td>PC</td>\n",
       "      <td>2020-12-07 14:43:27</td>\n",
       "      <td>product_page</td>\n",
       "      <td>2020-12-07</td>\n",
       "    </tr>\n",
       "  </tbody>\n",
       "</table>\n",
       "</div>"
      ],
      "text/plain": [
       "            user_id group     reg_dt region device            event_dt  \\\n",
       "0  D1ABA3E2887B6A73     A 2020-12-07     EU     PC 2020-12-07 14:43:27   \n",
       "1  D1ABA3E2887B6A73     A 2020-12-07     EU     PC 2020-12-25 00:04:56   \n",
       "2  D1ABA3E2887B6A73     A 2020-12-07     EU     PC 2020-12-07 14:43:29   \n",
       "3  D1ABA3E2887B6A73     A 2020-12-07     EU     PC 2020-12-25 00:04:57   \n",
       "4  D1ABA3E2887B6A73     A 2020-12-07     EU     PC 2020-12-07 14:43:27   \n",
       "\n",
       "     event_name event_date  \n",
       "0      purchase 2020-12-07  \n",
       "1      purchase 2020-12-25  \n",
       "2  product_cart 2020-12-07  \n",
       "3  product_cart 2020-12-25  \n",
       "4  product_page 2020-12-07  "
      ]
     },
     "execution_count": 29,
     "metadata": {},
     "output_type": "execute_result"
    }
   ],
   "source": [
    "data = participants.query('ab_test == \"recommender_system_test\"')\n",
    "data = data[['user_id', 'group']].merge(new_users, how='left', on='user_id').rename(columns={'first_date': 'reg_dt'})\n",
    "data = data.merge(events[['user_id', 'event_dt', 'event_name']] , how='left', on='user_id')\n",
    "data['event_date'] = pd.to_datetime(data['event_dt']).dt.normalize()\n",
    "data.head()"
   ]
  },
  {
   "cell_type": "markdown",
   "id": "b329db7c",
   "metadata": {},
   "source": [
    "**Вывод.** На этапе предобработки:\n",
    "* столбцы, содержащие даты, были приведены к типу datetime\n",
    "* полных дубликатов не обнаружено\n",
    "* выявлены пересечения пользователей между двумя A/B-тестами, которые были оставлены в данных для анализа, поскольку они равномерно распределены по группам\n",
    "* пропуски есть только в столбце с подробностями событий, которые в данном проекте не нужны\n",
    "* создана сводная таблица для анализа\n",
    "\n",
    "## Оценка корректности проведения теста\n",
    "\n",
    "### Соответствие данных ТЗ\n",
    "\n",
    "Группы: А — контрольная, B — новая платежная воронка."
   ]
  },
  {
   "cell_type": "code",
   "execution_count": 30,
   "id": "ad053958",
   "metadata": {},
   "outputs": [
    {
     "data": {
      "text/plain": [
       "array(['A', 'B'], dtype=object)"
      ]
     },
     "execution_count": 30,
     "metadata": {},
     "output_type": "execute_result"
    }
   ],
   "source": [
    "data['group'].unique()"
   ]
  },
  {
   "cell_type": "markdown",
   "id": "bb32ac9a",
   "metadata": {},
   "source": [
    "В тесте действительно 2 группы."
   ]
  },
  {
   "cell_type": "code",
   "execution_count": 31,
   "id": "b2464d4b",
   "metadata": {},
   "outputs": [
    {
     "data": {
      "text/plain": [
       "0"
      ]
     },
     "execution_count": 31,
     "metadata": {},
     "output_type": "execute_result"
    }
   ],
   "source": [
    "np.intersect1d(\n",
    "    data.query('group == \"A\"')['user_id'], \n",
    "    data.query('group == \"B\"')['user_id']).size"
   ]
  },
  {
   "cell_type": "markdown",
   "id": "cf5286ae",
   "metadata": {},
   "source": [
    "Пользователи между группами не пересекаются.\n",
    "\n",
    "### Время проведения теста\n",
    "\n",
    "ТЗ. Дата запуска: 2020-12-07."
   ]
  },
  {
   "cell_type": "code",
   "execution_count": 32,
   "id": "a98f6ca9",
   "metadata": {},
   "outputs": [
    {
     "name": "stdout",
     "output_type": "stream",
     "text": [
      "Начало теста: 2020-12-07 00:05:57\n"
     ]
    }
   ],
   "source": [
    "print('Начало теста:', data['event_dt'].min())"
   ]
  },
  {
   "cell_type": "markdown",
   "id": "1355c643",
   "metadata": {},
   "source": [
    "2020-12-07 тест действительно был начат 12 декабря в полночь.\n",
    "\n",
    "ТЗ. Дата остановки набора новых пользователей: 2020-12-21."
   ]
  },
  {
   "cell_type": "code",
   "execution_count": 33,
   "id": "09e3a2d7",
   "metadata": {},
   "outputs": [
    {
     "name": "stdout",
     "output_type": "stream",
     "text": [
      "Остановка набора: 2020-12-21 00:00:00\n"
     ]
    }
   ],
   "source": [
    "print('Остановка набора:', data['reg_dt'].max())"
   ]
  },
  {
   "cell_type": "markdown",
   "id": "2e39e244",
   "metadata": {},
   "source": [
    "Этот пункт также соответствует действительности.\n",
    "\n",
    "ТЗ. Дата остановки: 2021-01-04."
   ]
  },
  {
   "cell_type": "code",
   "execution_count": 34,
   "id": "b2ce331b",
   "metadata": {},
   "outputs": [
    {
     "name": "stdout",
     "output_type": "stream",
     "text": [
      "Остановка теста: 2020-12-30 12:42:57\n"
     ]
    }
   ],
   "source": [
    "print('Остановка теста:', data['event_dt'].max())"
   ]
  },
  {
   "cell_type": "markdown",
   "id": "f73efd96",
   "metadata": {},
   "source": [
    " Тест окончился не 4 января, как предполагалось, а в полдень 30 декабря. Вероятно, было собрано достаточно данных, тест признан успешным и остановлен."
   ]
  },
  {
   "cell_type": "code",
   "execution_count": 35,
   "id": "c22c0283",
   "metadata": {
    "scrolled": true
   },
   "outputs": [
    {
     "data": {
      "text/html": [
       "<div>\n",
       "<style scoped>\n",
       "    .dataframe tbody tr th:only-of-type {\n",
       "        vertical-align: middle;\n",
       "    }\n",
       "\n",
       "    .dataframe tbody tr th {\n",
       "        vertical-align: top;\n",
       "    }\n",
       "\n",
       "    .dataframe thead th {\n",
       "        text-align: right;\n",
       "    }\n",
       "</style>\n",
       "<table border=\"1\" class=\"dataframe\">\n",
       "  <thead>\n",
       "    <tr style=\"text-align: right;\">\n",
       "      <th></th>\n",
       "      <th>name</th>\n",
       "      <th>regions</th>\n",
       "      <th>start_dt</th>\n",
       "      <th>finish_dt</th>\n",
       "    </tr>\n",
       "  </thead>\n",
       "  <tbody>\n",
       "    <tr>\n",
       "      <th>0</th>\n",
       "      <td>Christmas&amp;New Year Promo</td>\n",
       "      <td>EU, N.America</td>\n",
       "      <td>2020-12-25</td>\n",
       "      <td>2021-01-03</td>\n",
       "    </tr>\n",
       "    <tr>\n",
       "      <th>10</th>\n",
       "      <td>CIS New Year Gift Lottery</td>\n",
       "      <td>CIS</td>\n",
       "      <td>2020-12-30</td>\n",
       "      <td>2021-01-07</td>\n",
       "    </tr>\n",
       "  </tbody>\n",
       "</table>\n",
       "</div>"
      ],
      "text/plain": [
       "                         name        regions   start_dt  finish_dt\n",
       "0    Christmas&New Year Promo  EU, N.America 2020-12-25 2021-01-03\n",
       "10  CIS New Year Gift Lottery            CIS 2020-12-30 2021-01-07"
      ]
     },
     "execution_count": 35,
     "metadata": {},
     "output_type": "execute_result"
    }
   ],
   "source": [
    "max_date = data['event_dt'].max()\n",
    "min_date = data['event_dt'].min()\n",
    "campaings.query('@max_date > start_dt > @min_date or @min_date < finish_dt < @max_date')"
   ]
  },
  {
   "cell_type": "markdown",
   "id": "b13fb920",
   "metadata": {},
   "source": [
    "На конец периода проведения теста выпали а маркетинговая кампания на Новый год и Рождество в Европе и Северной Америке. Если тест проведен корректно, то это событие должно одинаково повлиять на конверсию в двух группах и не изменят результатов анализа.\n",
    "\n",
    "### Аудитория теста\n",
    " \n",
    " ТЗ. Аудитория: 15% новых пользователей из региона EU."
   ]
  },
  {
   "cell_type": "code",
   "execution_count": 36,
   "id": "529af1a3",
   "metadata": {},
   "outputs": [
    {
     "data": {
      "text/plain": [
       "region\n",
       "APAC           72\n",
       "CIS            55\n",
       "EU           6351\n",
       "N.America     223\n",
       "Name: user_id, dtype: int64"
      ]
     },
     "execution_count": 36,
     "metadata": {},
     "output_type": "execute_result"
    }
   ],
   "source": [
    "data.groupby('region')['user_id'].nunique()"
   ]
  },
  {
   "cell_type": "code",
   "execution_count": 37,
   "id": "9a3e85c7",
   "metadata": {},
   "outputs": [
    {
     "data": {
      "text/plain": [
       "5.223101029697061"
      ]
     },
     "execution_count": 37,
     "metadata": {},
     "output_type": "execute_result"
    }
   ],
   "source": [
    "data.loc[data['region'] != 'EU', 'user_id'].nunique() / data['user_id'].nunique() * 100"
   ]
  },
  {
   "cell_type": "markdown",
   "id": "ffc21b29",
   "metadata": {},
   "source": [
    "В данных по тесту есть 5% пользователей из других регионов. Проведем z-тест и посмотрим, пропорционально ли они распределены по группам.\n",
    "\n",
    "Нулевая гипотеза - пропорции равны, альтернативная - пропорции отличаются."
   ]
  },
  {
   "cell_type": "code",
   "execution_count": 38,
   "id": "1dfc6bd3",
   "metadata": {},
   "outputs": [
    {
     "name": "stdout",
     "output_type": "stream",
     "text": [
      "0.2803899103255276\n",
      "Не получилось отвергнуть нулевую гипотезу\n"
     ]
    }
   ],
   "source": [
    "count_a = data.loc[(data['region'] != 'EU') & (data['group'] == 'A'), 'user_id'].nunique()\n",
    "\n",
    "nobs_a = data.loc[data['group'] == 'A', 'user_id'].nunique()\n",
    "\n",
    "count_b = data.loc[(data['region'] != 'EU') & (data['group'] == 'B'), 'user_id'].nunique()\n",
    "\n",
    "nobs_b = data.loc[data['group'] == 'B', 'user_id'].nunique()\n",
    "\n",
    "stat, pval = proportions_ztest([count_a, count_b], [nobs_a, nobs_b])\n",
    "alpha = 0.05\n",
    "\n",
    "print(pval) \n",
    "if pval < alpha:\n",
    "    print('Отвергаем нулевую гипотезу')\n",
    "else:\n",
    "    print('Не получилось отвергнуть нулевую гипотезу')"
   ]
  },
  {
   "cell_type": "markdown",
   "id": "ab690e3c",
   "metadata": {},
   "source": [
    "Такие пользователи пропорционально распределены по группам. Их появление - следствие ошибки при проведении теста. Удалим этих пользователей."
   ]
  },
  {
   "cell_type": "code",
   "execution_count": 39,
   "id": "b825f118",
   "metadata": {},
   "outputs": [],
   "source": [
    "data = data.query('region == \"EU\"')"
   ]
  },
  {
   "cell_type": "markdown",
   "id": "f4372c2f",
   "metadata": {},
   "source": [
    "Проверим, действительно ли пользователи в тесте составляют 15% от всех новых пользователей региона."
   ]
  },
  {
   "cell_type": "code",
   "execution_count": 40,
   "id": "bde716a2",
   "metadata": {},
   "outputs": [
    {
     "data": {
      "text/plain": [
       "15.0"
      ]
     },
     "execution_count": 40,
     "metadata": {},
     "output_type": "execute_result"
    }
   ],
   "source": [
    "max_date = data['reg_dt'].max()\n",
    "# исключим новых европейских пользователей, которые пришли позже 21 октября.\n",
    "data['user_id'].nunique() / new_users.query('region == \"EU\" & first_date <= @max_date')['user_id'].nunique() * 100"
   ]
  },
  {
   "cell_type": "markdown",
   "id": "7eebe8f1",
   "metadata": {},
   "source": [
    "Таких пользователей ровно 15%.\n",
    "\n",
    "ТЗ. Ожидаемое количество участников теста: 6000."
   ]
  },
  {
   "cell_type": "code",
   "execution_count": 41,
   "id": "5786d306",
   "metadata": {},
   "outputs": [
    {
     "data": {
      "text/plain": [
       "6351"
      ]
     },
     "execution_count": 41,
     "metadata": {},
     "output_type": "execute_result"
    }
   ],
   "source": [
    "data['user_id'].nunique()"
   ]
  },
  {
   "cell_type": "markdown",
   "id": "0fcb70b3",
   "metadata": {},
   "source": [
    "В тесте приняло участие достаточное количество пользователей. Посмотрим, как они распределены по группам."
   ]
  },
  {
   "cell_type": "code",
   "execution_count": 42,
   "id": "b00da5d1",
   "metadata": {},
   "outputs": [
    {
     "data": {
      "text/plain": [
       "group\n",
       "A    3634\n",
       "B    2717\n",
       "Name: user_id, dtype: int64"
      ]
     },
     "execution_count": 42,
     "metadata": {},
     "output_type": "execute_result"
    }
   ],
   "source": [
    "data.groupby('group')['user_id'].nunique()"
   ]
  },
  {
   "cell_type": "markdown",
   "id": "b6b85614",
   "metadata": {},
   "source": [
    "В группе А значительно больше пользователей."
   ]
  },
  {
   "cell_type": "code",
   "execution_count": 43,
   "id": "a8f37207",
   "metadata": {},
   "outputs": [
    {
     "data": {
      "text/plain": [
       "25.233902036323606"
      ]
     },
     "execution_count": 43,
     "metadata": {},
     "output_type": "execute_result"
    }
   ],
   "source": [
    "(1 - data.loc[data['group'] == 'B', 'user_id'].nunique() / data.loc[data['group'] == 'A', 'user_id'].nunique()) * 100"
   ]
  },
  {
   "cell_type": "markdown",
   "id": "eb69c1cd",
   "metadata": {},
   "source": [
    "Разница составляет более 25%, но, поскольку анализируется относительный показатель - конверсия - то это не помешает анализу, если набрано минимально необходимое количество пользователей для проведения теста с высокой мощностью критерия.\n",
    "\n",
    "Проверим, есть ли пользователи, которые не совершили действий."
   ]
  },
  {
   "cell_type": "code",
   "execution_count": 44,
   "id": "fed7e767",
   "metadata": {},
   "outputs": [
    {
     "data": {
      "text/plain": [
       "user_id          0\n",
       "group            0\n",
       "reg_dt           0\n",
       "region           0\n",
       "device           0\n",
       "event_dt      2870\n",
       "event_name    2870\n",
       "event_date    2870\n",
       "dtype: int64"
      ]
     },
     "execution_count": 44,
     "metadata": {},
     "output_type": "execute_result"
    }
   ],
   "source": [
    "data.isna().sum()"
   ]
  },
  {
   "cell_type": "markdown",
   "id": "318c184a",
   "metadata": {},
   "source": [
    "Таких пользователей 2870. Изучим, как они распределены по группам с помощью z-теста.\n",
    "\n",
    "Нулевая гипотеза - пропорции равны, альтернативная - пропорции отличаются."
   ]
  },
  {
   "cell_type": "code",
   "execution_count": 45,
   "id": "4110ef4d",
   "metadata": {},
   "outputs": [
    {
     "name": "stdout",
     "output_type": "stream",
     "text": [
      "1.1445865558208e-213\n",
      "Отвергаем нулевую гипотезу\n"
     ]
    }
   ],
   "source": [
    "count_a = data.query('group == \"A\"').groupby('user_id')['event_name'].count().loc[lambda x : x == 0].count()\n",
    "\n",
    "nobs_a = data.loc[data['group'] == 'A', 'user_id'].nunique()\n",
    "\n",
    "count_b = data.query('group == \"B\"').groupby('user_id')['event_name'].count().loc[lambda x : x == 0].count()\n",
    "\n",
    "nobs_b = data.loc[data['group'] == 'B', 'user_id'].nunique()\n",
    "\n",
    "stat, pval = proportions_ztest([count_a, count_b], [nobs_a, nobs_b])\n",
    "alpha = 0.05\n",
    "\n",
    "print(pval) \n",
    "if pval < alpha:\n",
    "    print('Отвергаем нулевую гипотезу')\n",
    "else:\n",
    "    print('Не получилось отвергнуть нулевую гипотезу')"
   ]
  },
  {
   "cell_type": "markdown",
   "id": "42bc3272",
   "metadata": {},
   "source": [
    "Пользователи без событий неравномерно распределены по группам. Исследуем динамику регистрации таких пользователей."
   ]
  },
  {
   "cell_type": "code",
   "execution_count": 46,
   "id": "33d11796",
   "metadata": {},
   "outputs": [
    {
     "data": {
      "image/png": "[encoded data removed]",
      "text/plain": [
       "<Figure size 1200x700 with 1 Axes>"
      ]
     },
     "metadata": {},
     "output_type": "display_data"
    }
   ],
   "source": [
    "# зададим размер, тему и палитру графиков в проекте\n",
    "plt.rcParams[\"figure.figsize\"] = (12, 7)\n",
    "sns.set_theme(style=\"darkgrid\") \n",
    "sns.set_palette('deep')\n",
    "\n",
    "plt.plot(data.loc[(data['event_dt'].isna()) & (data['group'] == 'A'), ['user_id', 'reg_dt']].groupby('reg_dt').count(), label='A')\n",
    "plt.plot(data.loc[(data['event_dt'].isna()) & (data['group'] == 'B'), ['user_id', 'reg_dt']].groupby('reg_dt').count(), label='B')\n",
    "plt.title('Динамика регистрации пользователей без событий')\n",
    "plt.xlabel('Дата')\n",
    "plt.ylabel('Регистрации')\n",
    "plt.legend()\n",
    "plt.show()"
   ]
  },
  {
   "cell_type": "markdown",
   "id": "87975fb9",
   "metadata": {},
   "source": [
    "Количество регистраций пользователей без событий колеблется одинаково в обеих группах, однако 13 декабря в группе \"А\" такие регистрации полностью пропадают. Можно предположить, что данные по таким пользователям, зарегистрированным после 13 декабря, по группе \"А\" не выгружены.\n",
    "\n",
    "Проверим остальные данные. Регистрацию можно представить как первый этап воронки - до логина. Рассмотрим, какова ситуация с другими этапами."
   ]
  },
  {
   "cell_type": "code",
   "execution_count": 47,
   "id": "34292154",
   "metadata": {},
   "outputs": [
    {
     "data": {
      "image/png": "[encoded data removed]",
      "text/plain": [
       "<Figure size 1200x700 with 1 Axes>"
      ]
     },
     "metadata": {},
     "output_type": "display_data"
    }
   ],
   "source": [
    "plt.plot(data.loc[(data['event_name'] == 'login') & (data['group'] == 'A'), ['user_id', 'reg_dt']].groupby('reg_dt').nunique(), label='A')\n",
    "plt.plot(data.loc[(data['event_name'] == 'login') & (data['group'] == 'B'), ['user_id', 'reg_dt']].groupby('reg_dt').nunique(), label='B')\n",
    "plt.title('Динамика регистрации пользователей, совершивших дейстие login')\n",
    "plt.xlabel('Дата')\n",
    "plt.ylabel('Регистрации')\n",
    "plt.legend()\n",
    "plt.show()"
   ]
  },
  {
   "cell_type": "code",
   "execution_count": 48,
   "id": "1186c87e",
   "metadata": {},
   "outputs": [
    {
     "data": {
      "image/png": "[encoded data removed]",
      "text/plain": [
       "<Figure size 1200x700 with 1 Axes>"
      ]
     },
     "metadata": {},
     "output_type": "display_data"
    }
   ],
   "source": [
    "plt.plot(data.loc[(data['event_name'] == 'purchase') & (data['group'] == 'A'), ['user_id', 'reg_dt']].groupby('reg_dt').nunique(), label='A')\n",
    "plt.plot(data.loc[(data['event_name'] == 'purchase') & (data['group'] == 'B'), ['user_id', 'reg_dt']].groupby('reg_dt').nunique(), label='B')\n",
    "plt.title('Динамика регистрации пользователей, совершивших дейстие purchase')\n",
    "plt.xlabel('Дата')\n",
    "plt.ylabel('Регистрации')\n",
    "plt.legend()\n",
    "plt.show()"
   ]
  },
  {
   "cell_type": "code",
   "execution_count": 49,
   "id": "5a2cdce1",
   "metadata": {},
   "outputs": [
    {
     "data": {
      "image/png": "[encoded data removed]",
      "text/plain": [
       "<Figure size 1200x700 with 1 Axes>"
      ]
     },
     "metadata": {},
     "output_type": "display_data"
    }
   ],
   "source": [
    "plt.plot(data.loc[(data['event_name'] == 'product_cart') & (data['group'] == 'A'), ['user_id', 'reg_dt']].groupby('reg_dt').nunique(), label='A')\n",
    "plt.plot(data.loc[(data['event_name'] == 'product_cart') & (data['group'] == 'B'), ['user_id', 'reg_dt']].groupby('reg_dt').nunique(), label='B')\n",
    "plt.title('Динамика регистрации пользователей, совершивших дейстие product_cart')\n",
    "plt.xlabel('Дата')\n",
    "plt.ylabel('Регистрации')\n",
    "plt.legend()\n",
    "plt.show()"
   ]
  },
  {
   "cell_type": "code",
   "execution_count": 50,
   "id": "337862d0",
   "metadata": {},
   "outputs": [
    {
     "data": {
      "image/png": "[encoded data removed]",
      "text/plain": [
       "<Figure size 1200x700 with 1 Axes>"
      ]
     },
     "metadata": {},
     "output_type": "display_data"
    }
   ],
   "source": [
    "plt.plot(data.loc[(data['event_name'] == 'product_page') & (data['group'] == 'A'), ['user_id', 'reg_dt']].groupby('reg_dt').nunique(), label='A')\n",
    "plt.plot(data.loc[(data['event_name'] == 'product_page') & (data['group'] == 'B'), ['user_id', 'reg_dt']].groupby('reg_dt').nunique(), label='B')\n",
    "plt.title('Динамика регистрации пользователей')\n",
    "plt.xlabel('Дата')\n",
    "plt.ylabel('Регистрации')\n",
    "plt.legend()\n",
    "plt.show()"
   ]
  },
  {
   "cell_type": "markdown",
   "id": "c969830d",
   "metadata": {},
   "source": [
    "Мы видим, что с 13 декабря в группе \"А\" резко растет количество зарегистрированных пользователей, совершивших действие в любом из этапов воронки. Гипотезы причин произошедшего:\n",
    "* Основная: до 13 декабря существовала техническая проблема, из-за которой пользователи не могли зайти в приложение после регистрации. 13 числа она была исправлена только для пользователей группы \"А\". Эта причина более вероятна, поскольку на всех этапах воронки динамика регистрации пользователей в группе \"В\" стабильна, а в группе \"А\" наблюдается сильный скачок. \n",
    "* Дополнительная: ошибка в выгрузке данных. До 13 декабря не выгружались события для части пользователей в обеих группах, после этой даты ошибку выгрузки исправили только для группы \"А\".\n",
    "\n",
    "В любом случае тест был проведен некорректно, и результаты анализа будут искажены. Тем не менее, проведем исследование до конца.\n",
    "\n",
    "Удалим пользователей без событий из датасета. Это существенно снизит мощность статистического теста."
   ]
  },
  {
   "cell_type": "code",
   "execution_count": 51,
   "id": "d4399b8b",
   "metadata": {},
   "outputs": [
    {
     "name": "stdout",
     "output_type": "stream",
     "text": [
      "Доля удаленных пользователей: 45.19%\n"
     ]
    }
   ],
   "source": [
    "print('Доля удаленных пользователей:', '{0:.2%}'.format(data.groupby('user_id')['event_name'].count().loc[lambda x : x == 0].count() / data['user_id'].nunique()))\n",
    "data = data.dropna()"
   ]
  },
  {
   "cell_type": "markdown",
   "id": "334c5d9e",
   "metadata": {},
   "source": [
    "В ТЗ указано, что улучшение конверсии ожидается за 14 дней с момента регистрации пользователи.\n",
    "\n",
    "Отфильтруем события, которые произошли после 14 лайфтайма."
   ]
  },
  {
   "cell_type": "code",
   "execution_count": 52,
   "id": "f313433a",
   "metadata": {},
   "outputs": [
    {
     "name": "stdout",
     "output_type": "stream",
     "text": [
      "Доля удаленных событий: 2.53%\n"
     ]
    }
   ],
   "source": [
    "data['lifetime'] = data['event_date'] - data['reg_dt']\n",
    "data['lifetime'] = data['lifetime'].dt.days\n",
    "print('Доля удаленных событий: {0:.2%}'.format(data.query('lifetime > 14')['event_name'].count() / data['event_name'].count()))\n",
    "data = data.query('lifetime < 15')"
   ]
  },
  {
   "cell_type": "markdown",
   "id": "d7b036da",
   "metadata": {},
   "source": [
    "**Вывод.** \n",
    "* Тест был закончен на 5 дней раньше, но к тому времени уже было набрано достаточно пользователей.\n",
    "* Во время проведения теста состоялось новогоднее маркетинговое событие, но оно должно одинаково повлиять на обе группы.\n",
    "* В данных по тесту содержались 5% пользователей из других регионов, они были уделены.\n",
    "* 45% пользователей в тесте не имели событий. Они были неравномерно распределены по группам, что исказит результаты анализа.\n",
    "* Пользователи без событий были удалены, что снизит мощность статистического критерия.\n",
    "\n",
    "Последние 2 пункта дают право сказать, что тест проведен некорректно.\n",
    "\n",
    "## Исследовательский анализ данных\n",
    "\n",
    "### Распределение количества событий на пользователя"
   ]
  },
  {
   "cell_type": "code",
   "execution_count": 53,
   "id": "5dfb30d1",
   "metadata": {},
   "outputs": [
    {
     "name": "stdout",
     "output_type": "stream",
     "text": [
      "Событий на пользователя в группе А: 6.903609831029186\n",
      "Событий на пользователя в группе B: 5.531356898517674\n"
     ]
    }
   ],
   "source": [
    "print('Событий на пользователя в группе А:', data.query('group == \"A\"')['event_name'].count() / data.query('group == \"A\"')['user_id'].nunique())\n",
    "print('Событий на пользователя в группе B:', data.query('group == \"B\"')['event_name'].count() / data.query('group == \"B\"')['user_id'].nunique())"
   ]
  },
  {
   "cell_type": "code",
   "execution_count": 54,
   "id": "6675a539",
   "metadata": {},
   "outputs": [
    {
     "data": {
      "image/png": "[encoded data removed]",
      "text/plain": [
       "<Figure size 1200x700 with 1 Axes>"
      ]
     },
     "metadata": {},
     "output_type": "display_data"
    }
   ],
   "source": [
    "sns.barplot(y=[data.query('group == \"A\"')['event_name'].count() / data.query('group == \"A\"')['user_id'].nunique(),\n",
    "              data.query('group == \"B\"')['event_name'].count() / data.query('group == \"B\"')['user_id'].nunique()],\n",
    "            x=['A', 'B'])\n",
    "plt.title('Распределение количества событий на пользователя')\n",
    "plt.xlabel('Группа')\n",
    "plt.ylabel('События')\n",
    "plt.show()"
   ]
  },
  {
   "cell_type": "markdown",
   "id": "7ad9f8b8",
   "metadata": {},
   "source": [
    "Теперь посмотрим на метрику в динамике.\n",
    "\n",
    "### Распределение количества событий по дням"
   ]
  },
  {
   "cell_type": "code",
   "execution_count": 55,
   "id": "30a3b907",
   "metadata": {},
   "outputs": [
    {
     "data": {
      "image/png": "[encoded data removed]",
      "text/plain": [
       "<Figure size 1200x700 with 1 Axes>"
      ]
     },
     "metadata": {},
     "output_type": "display_data"
    }
   ],
   "source": [
    "report = (data.query('group == \"A\"').groupby(['event_date'], as_index=False)\n",
    "          .agg(n_users=('user_id', 'nunique'), events=('event_name', 'count'))\n",
    "         )\n",
    "\n",
    "report['events_per_user'] = (report['events'] / report['n_users'])\n",
    "report = report.drop(columns=['n_users', 'events'])\n",
    "\n",
    "sns.lineplot(x=report['event_date'], y=report['events_per_user'], legend='brief', label='A')\n",
    "\n",
    "report = (data.query('group == \"B\"').groupby(['event_date'], as_index=False)\n",
    "          .agg(n_users=('user_id', 'nunique'), events=('event_name', 'count'))\n",
    "         )\n",
    "report['events_per_user'] = (report['events'] / report['n_users']).drop(columns=['n_users', 'events'])\n",
    "report = report.drop(columns=['n_users', 'events'])\n",
    "\n",
    "sns.lineplot(x=report['event_date'], y=report['events_per_user'], legend='brief', label='B')\n",
    "plt.title('Динамика количества событий на пользователя')\n",
    "plt.xlabel('Дата')\n",
    "plt.ylabel('События')\n",
    "plt.show() "
   ]
  },
  {
   "cell_type": "markdown",
   "id": "dda95fd1",
   "metadata": {},
   "source": [
    "В начале графика количество событий в группе \"А\" выше, но значения сопоставимы. После 13 декабря наблюдается стремительный рост в группе \"А\" с 2 до 2,3 событий в день на пользователя, что может быть вызвано некорректным проведением теста, описанным выше. \n",
    "\n",
    "График группы \"B\" гораздо менее стабильный.\n",
    "\n",
    "### Изменения конверсии на разных этапах\n",
    "\n",
    "Для начала определим последовательность этапов воронки."
   ]
  },
  {
   "cell_type": "code",
   "execution_count": 56,
   "id": "3acea20e",
   "metadata": {},
   "outputs": [
    {
     "data": {
      "text/plain": [
       "event_name\n",
       "login           3480\n",
       "product_page    2178\n",
       "purchase        1082\n",
       "product_cart    1026\n",
       "Name: user_id, dtype: int64"
      ]
     },
     "execution_count": 56,
     "metadata": {},
     "output_type": "execute_result"
    }
   ],
   "source": [
    "data.groupby('event_name')['user_id'].nunique().sort_values(ascending=False)"
   ]
  },
  {
   "cell_type": "markdown",
   "id": "7402bb91",
   "metadata": {},
   "source": [
    "Все пользователи хоть раз входили в систему. \n",
    "\n",
    "Событий \"переход в корзину\" меньше, чем покупок. Это значит, что пользователи могут пропустить один из шагов, например, можно совершить быструю покупку на странице товара."
   ]
  },
  {
   "cell_type": "markdown",
   "id": "b274f3ea",
   "metadata": {},
   "source": [
    "Начнем с конверсии в просмотр карточек товаров."
   ]
  },
  {
   "cell_type": "code",
   "execution_count": 57,
   "id": "13a8ebb7",
   "metadata": {},
   "outputs": [
    {
     "name": "stdout",
     "output_type": "stream",
     "text": [
      "Конверсия в product_page группы А: 64.71%\n",
      "Конверсия в product_page группы B: 56.21%\n"
     ]
    }
   ],
   "source": [
    "print('Конверсия в product_page группы А:', '{0:.2%}'.format(data.query('event_name == \"product_page\" and group == \"A\"')['user_id'].nunique() / data.query('group == \"A\"')['user_id'].nunique()))\n",
    "print('Конверсия в product_page группы B:', '{0:.2%}'.format(data.query('event_name == \"product_page\" and group == \"B\"')['user_id'].nunique() / data.query('group == \"B\"')['user_id'].nunique()))"
   ]
  },
  {
   "cell_type": "markdown",
   "id": "07ebd7eb",
   "metadata": {},
   "source": [
    "Контрольная группа показывает гораздо более хорошие результаты, чем группа с изменениями."
   ]
  },
  {
   "cell_type": "code",
   "execution_count": 58,
   "id": "c0349d9e",
   "metadata": {},
   "outputs": [
    {
     "name": "stdout",
     "output_type": "stream",
     "text": [
      "Конверсия в product_cart группы А: 30.03%\n",
      "Конверсия в product_cart группы B: 27.82%\n"
     ]
    }
   ],
   "source": [
    "print('Конверсия в product_cart группы А:', '{0:.2%}'.format(data.query('event_name == \"product_cart\" and group == \"A\"')['user_id'].nunique() / data.query('group == \"A\"')['user_id'].nunique()))\n",
    "print('Конверсия в product_cart группы B:', '{0:.2%}'.format(data.query('event_name == \"product_cart\" and group == \"B\"')['user_id'].nunique() / data.query('group == \"B\"')['user_id'].nunique()))"
   ]
  },
  {
   "cell_type": "markdown",
   "id": "dbdf2862",
   "metadata": {},
   "source": [
    "На этом этапе разница сильно снижается, но сохраняется лидерство группы \"А\"."
   ]
  },
  {
   "cell_type": "code",
   "execution_count": 59,
   "id": "76fef8d7",
   "metadata": {},
   "outputs": [
    {
     "name": "stdout",
     "output_type": "stream",
     "text": [
      "Конверсия в purchase группы А: 31.99%\n",
      "Конверсия в purchase группы B: 28.39%\n"
     ]
    }
   ],
   "source": [
    "print('Конверсия в purchase группы А:', '{0:.2%}'.format(data.query('event_name == \"purchase\" and group == \"A\"')['user_id'].nunique() / data.query('group == \"A\"')['user_id'].nunique()))\n",
    "print('Конверсия в purchase группы B:', '{0:.2%}'.format(data.query('event_name == \"purchase\" and group == \"B\"')['user_id'].nunique() / data.query('group == \"B\"')['user_id'].nunique()))"
   ]
  },
  {
   "cell_type": "markdown",
   "id": "d8718549",
   "metadata": {},
   "source": [
    "Конверсия в покупки на 3.6% хуже в группе с новой системой рекомендаций."
   ]
  },
  {
   "cell_type": "markdown",
   "id": "f6580fba",
   "metadata": {},
   "source": [
    "\n",
    "**Вывод.**\n",
    "* В группе \"A\" событий в среднем на пользователя больше.\n",
    "* В начале рассматриваемого периода в группах сопоставимое количество событий, но с 13 декабря наблюдается резкий рост в группе \"А\".\n",
    "* Конверсия в контрольной группе выше на всех этапах.\n",
    "* Разница между группами в конверсии в переход в корзину и покупку гораздо ниже, чем разница в конверсии в просмотр карточки товара.\n",
    "\n",
    "## Анализ результатов A/B-тестирования\n",
    "\n",
    "Проверим, имеет ли разница в конверсии, полученная в результате исследования, статистическую значимость. Тестировать будем 3 этапа, поэтому применим поправку Бонферрони и возьмем alpha 0.01667."
   ]
  },
  {
   "cell_type": "code",
   "execution_count": 60,
   "id": "65a93fba",
   "metadata": {},
   "outputs": [
    {
     "name": "stdout",
     "output_type": "stream",
     "text": [
      "1685 493 2604 877\n",
      "6.94273935952599e-06\n",
      "Отвергаем нулевую гипотезу\n"
     ]
    }
   ],
   "source": [
    "count_a = data.query('event_name == \"product_page\" and group == \"A\"')['user_id'].nunique()\n",
    "\n",
    "nobs_a = data.query('group == \"A\"')['user_id'].nunique()\n",
    "\n",
    "count_b = data.query('event_name == \"product_page\" and group == \"B\"')['user_id'].nunique()\n",
    "\n",
    "nobs_b = data.query('group == \"B\"')['user_id'].nunique()\n",
    "\n",
    "stat, pval = proportions_ztest([count_a, count_b], [nobs_a, nobs_b])\n",
    "\n",
    "print(count_a, count_b,nobs_a, nobs_b)\n",
    "alpha = 0.01667\n",
    "\n",
    "print(pval) \n",
    "if pval < alpha:\n",
    "    print('Отвергаем нулевую гипотезу')\n",
    "else:\n",
    "    print('Не получилось отвергнуть нулевую гипотезу')"
   ]
  },
  {
   "cell_type": "markdown",
   "id": "6a38ac5c",
   "metadata": {},
   "source": [
    "Конверсия в просмотр карточек товаров действительно выше в контрольной группе на этапе просмотра карточки товара."
   ]
  },
  {
   "cell_type": "code",
   "execution_count": 61,
   "id": "a89c8cd2",
   "metadata": {},
   "outputs": [
    {
     "name": "stdout",
     "output_type": "stream",
     "text": [
      "782 244 2604 877\n",
      "0.21469192029582396\n",
      "Не получилось отвергнуть нулевую гипотезу\n"
     ]
    }
   ],
   "source": [
    "count_a = data.query('event_name == \"product_cart\" and group == \"A\"')['user_id'].nunique()\n",
    "\n",
    "nobs_a = data.query('group == \"A\"')['user_id'].nunique()\n",
    "\n",
    "count_b = data.query('event_name == \"product_cart\" and group == \"B\"')['user_id'].nunique()\n",
    "\n",
    "nobs_b = data.query('group == \"B\"')['user_id'].nunique()\n",
    "\n",
    "stat, pval = proportions_ztest([count_a, count_b], [nobs_a, nobs_b])\n",
    "\n",
    "print(count_a, count_b,nobs_a, nobs_b)\n",
    "\n",
    "print(pval) \n",
    "if pval < alpha:\n",
    "    print('Отвергаем нулевую гипотезу')\n",
    "else:\n",
    "    print('Не получилось отвергнуть нулевую гипотезу')"
   ]
  },
  {
   "cell_type": "markdown",
   "id": "d7617537",
   "metadata": {},
   "source": [
    "На этапе перехода в корзину у разницы в конверсии нет статистической значимости."
   ]
  },
  {
   "cell_type": "code",
   "execution_count": 62,
   "id": "322477d9",
   "metadata": {},
   "outputs": [
    {
     "name": "stdout",
     "output_type": "stream",
     "text": [
      "833 249 2604 877\n",
      "0.04652482738393029\n",
      "Не получилось отвергнуть нулевую гипотезу\n"
     ]
    }
   ],
   "source": [
    "count_a = data.query('event_name == \"purchase\" and group == \"A\"')['user_id'].nunique()\n",
    "\n",
    "nobs_a = data.query('group == \"A\"')['user_id'].nunique()\n",
    "\n",
    "count_b = data.query('event_name == \"purchase\" and group == \"B\"')['user_id'].nunique()\n",
    "\n",
    "nobs_b = data.query('group == \"B\"')['user_id'].nunique()\n",
    "\n",
    "stat, pval = proportions_ztest([count_a, count_b], [nobs_a, nobs_b])\n",
    "\n",
    "print(count_a, count_b,nobs_a, nobs_b)\n",
    "\n",
    "print(pval) \n",
    "if pval < alpha:\n",
    "    print('Отвергаем нулевую гипотезу')\n",
    "else:\n",
    "    print('Не получилось отвергнуть нулевую гипотезу')"
   ]
  },
  {
   "cell_type": "markdown",
   "id": "16703149",
   "metadata": {},
   "source": [
    "Конверсия в покупку также не отличается между группами с достаточной статистической значимостью.\n",
    "\n",
    "**Вывод.**\n",
    "* Есть статистически значимая разница между группами в конверсии в просмотр карточки продукта, переход в корзину и покупку.\n",
    "\n",
    "## Вывод\n",
    "\n",
    "* В рамках проекта анализировались данные A/B-теста 15% европейских пользователей за период с 7 по 30 декабря 2020 года.\n",
    "* В датасете содержатся данные пользователей контрольной группы \"А\" и группы \"B\", пользователям которой была внедрена улучшенная рекомендательная система.\n",
    "* Строгой воронки конверсии нет, поскольку пользователи могут пропустить некоторые из шагов.\n",
    "* В ходе исследования было обнаружено, что тест проведен некорректно. 45% пользователей в тесте не имели событий. Они были неравномерно распределены по группам, что искажает результаты анализа.\n",
    "* По имеющимся данным можно сделать вывод, что конверсия у пользователей с новой системой ниже, чем у пользователей контрольной группы, хотя ожидалось повышение на 10%.\n",
    "* Рекомендуется не руководствоваться результатами этого теста и провести новый корректный."
   ]
  }
 ],
 "metadata": {
  "ExecuteTimeLog": [
   {
    "duration": 1153,
    "start_time": "2023-02-19T22:03:02.450Z"
   },
   {
    "duration": 1057,
    "start_time": "2023-02-19T22:03:03.605Z"
   },
   {
    "duration": 17,
    "start_time": "2023-02-19T22:03:04.663Z"
   },
   {
    "duration": 12,
    "start_time": "2023-02-19T22:03:04.682Z"
   },
   {
    "duration": 14,
    "start_time": "2023-02-19T22:03:04.697Z"
   },
   {
    "duration": 28,
    "start_time": "2023-02-19T22:03:04.713Z"
   },
   {
    "duration": 9,
    "start_time": "2023-02-19T22:03:04.743Z"
   },
   {
    "duration": 102,
    "start_time": "2023-02-19T22:03:04.754Z"
   },
   {
    "duration": 8,
    "start_time": "2023-02-19T22:03:04.858Z"
   },
   {
    "duration": 18,
    "start_time": "2023-02-19T22:03:04.868Z"
   },
   {
    "duration": 90,
    "start_time": "2023-02-19T22:03:04.888Z"
   },
   {
    "duration": 11,
    "start_time": "2023-02-19T22:03:04.979Z"
   },
   {
    "duration": 67,
    "start_time": "2023-02-19T22:03:04.991Z"
   },
   {
    "duration": 7,
    "start_time": "2023-02-19T22:03:05.061Z"
   },
   {
    "duration": 47,
    "start_time": "2023-02-19T22:03:05.071Z"
   },
   {
    "duration": 5,
    "start_time": "2023-02-19T22:03:05.119Z"
   },
   {
    "duration": 113,
    "start_time": "2023-02-19T22:03:05.125Z"
   },
   {
    "duration": 7,
    "start_time": "2023-02-19T22:03:05.240Z"
   },
   {
    "duration": 69,
    "start_time": "2023-02-19T22:03:05.248Z"
   },
   {
    "duration": 162,
    "start_time": "2023-02-19T22:03:05.319Z"
   },
   {
    "duration": 11,
    "start_time": "2023-02-19T22:03:05.483Z"
   },
   {
    "duration": 55,
    "start_time": "2023-02-19T22:03:05.510Z"
   },
   {
    "duration": 66,
    "start_time": "2023-02-19T22:03:05.567Z"
   },
   {
    "duration": 35,
    "start_time": "2023-02-19T22:03:05.634Z"
   },
   {
    "duration": 84,
    "start_time": "2023-02-19T22:03:05.671Z"
   },
   {
    "duration": 5,
    "start_time": "2023-02-19T22:03:05.756Z"
   },
   {
    "duration": 13,
    "start_time": "2023-02-19T22:03:05.763Z"
   },
   {
    "duration": 6,
    "start_time": "2023-02-19T22:03:05.778Z"
   },
   {
    "duration": 160,
    "start_time": "2023-02-19T22:03:05.786Z"
   },
   {
    "duration": 5,
    "start_time": "2023-02-19T22:03:05.947Z"
   },
   {
    "duration": 31,
    "start_time": "2023-02-19T22:03:05.954Z"
   },
   {
    "duration": 22,
    "start_time": "2023-02-19T22:03:05.987Z"
   },
   {
    "duration": 5,
    "start_time": "2023-02-19T22:03:06.012Z"
   },
   {
    "duration": 5,
    "start_time": "2023-02-19T22:03:06.019Z"
   },
   {
    "duration": 18,
    "start_time": "2023-02-19T22:03:06.026Z"
   },
   {
    "duration": 12,
    "start_time": "2023-02-19T22:03:06.046Z"
   },
   {
    "duration": 14,
    "start_time": "2023-02-19T22:03:06.060Z"
   },
   {
    "duration": 49,
    "start_time": "2023-02-19T22:03:06.076Z"
   },
   {
    "duration": 6,
    "start_time": "2023-02-19T22:03:06.127Z"
   },
   {
    "duration": 21,
    "start_time": "2023-02-19T22:03:06.135Z"
   },
   {
    "duration": 7,
    "start_time": "2023-02-19T22:03:06.160Z"
   },
   {
    "duration": 11,
    "start_time": "2023-02-19T22:03:06.168Z"
   },
   {
    "duration": 38,
    "start_time": "2023-02-19T22:03:06.181Z"
   },
   {
    "duration": 10,
    "start_time": "2023-02-19T22:03:06.220Z"
   },
   {
    "duration": 29,
    "start_time": "2023-02-19T22:03:06.231Z"
   },
   {
    "duration": 397,
    "start_time": "2023-02-19T22:03:06.262Z"
   },
   {
    "duration": 308,
    "start_time": "2023-02-19T22:03:06.661Z"
   },
   {
    "duration": 277,
    "start_time": "2023-02-19T22:03:06.970Z"
   },
   {
    "duration": 287,
    "start_time": "2023-02-19T22:03:07.249Z"
   },
   {
    "duration": 273,
    "start_time": "2023-02-19T22:03:07.537Z"
   },
   {
    "duration": 23,
    "start_time": "2023-02-19T22:03:07.812Z"
   },
   {
    "duration": 20,
    "start_time": "2023-02-19T22:03:07.836Z"
   },
   {
    "duration": 323,
    "start_time": "2023-02-19T22:03:07.857Z"
   },
   {
    "duration": 10,
    "start_time": "2023-02-19T22:03:08.181Z"
   },
   {
    "duration": 23,
    "start_time": "2023-02-19T22:03:08.193Z"
   },
   {
    "duration": 23,
    "start_time": "2023-02-19T22:03:08.218Z"
   },
   {
    "duration": 22,
    "start_time": "2023-02-19T22:03:08.243Z"
   },
   {
    "duration": 57,
    "start_time": "2023-02-19T22:03:08.267Z"
   },
   {
    "duration": 24,
    "start_time": "2023-02-19T22:03:08.326Z"
   },
   {
    "duration": 22,
    "start_time": "2023-02-19T22:03:08.352Z"
   },
   {
    "duration": 55,
    "start_time": "2023-02-19T22:03:08.376Z"
   },
   {
    "duration": 8,
    "start_time": "2023-02-19T22:08:26.849Z"
   },
   {
    "duration": 23,
    "start_time": "2023-02-19T22:54:24.959Z"
   },
   {
    "duration": 25,
    "start_time": "2023-02-19T22:54:29.977Z"
   },
   {
    "duration": 23,
    "start_time": "2023-02-19T22:54:33.091Z"
   },
   {
    "duration": 53,
    "start_time": "2023-02-20T18:15:32.749Z"
   },
   {
    "duration": 46,
    "start_time": "2023-02-20T18:16:05.841Z"
   },
   {
    "duration": 1336,
    "start_time": "2023-02-20T18:16:10.375Z"
   },
   {
    "duration": 1100,
    "start_time": "2023-02-20T18:16:11.713Z"
   },
   {
    "duration": 13,
    "start_time": "2023-02-20T18:16:12.815Z"
   },
   {
    "duration": 10,
    "start_time": "2023-02-20T18:16:12.830Z"
   },
   {
    "duration": 8,
    "start_time": "2023-02-20T18:16:12.842Z"
   },
   {
    "duration": 18,
    "start_time": "2023-02-20T18:16:12.852Z"
   },
   {
    "duration": 38,
    "start_time": "2023-02-20T18:16:12.872Z"
   },
   {
    "duration": 58,
    "start_time": "2023-02-20T18:16:12.911Z"
   },
   {
    "duration": 8,
    "start_time": "2023-02-20T18:16:12.970Z"
   },
   {
    "duration": 33,
    "start_time": "2023-02-20T18:16:12.980Z"
   },
   {
    "duration": 76,
    "start_time": "2023-02-20T18:16:13.015Z"
   },
   {
    "duration": 25,
    "start_time": "2023-02-20T18:16:13.092Z"
   },
   {
    "duration": 61,
    "start_time": "2023-02-20T18:16:13.119Z"
   },
   {
    "duration": 7,
    "start_time": "2023-02-20T18:16:13.183Z"
   },
   {
    "duration": 41,
    "start_time": "2023-02-20T18:16:13.191Z"
   },
   {
    "duration": 5,
    "start_time": "2023-02-20T18:16:13.234Z"
   },
   {
    "duration": 132,
    "start_time": "2023-02-20T18:16:13.241Z"
   },
   {
    "duration": 7,
    "start_time": "2023-02-20T18:16:13.375Z"
   },
   {
    "duration": 58,
    "start_time": "2023-02-20T18:16:13.384Z"
   },
   {
    "duration": 155,
    "start_time": "2023-02-20T18:16:13.444Z"
   },
   {
    "duration": 17,
    "start_time": "2023-02-20T18:16:13.601Z"
   },
   {
    "duration": 72,
    "start_time": "2023-02-20T18:16:13.619Z"
   },
   {
    "duration": 68,
    "start_time": "2023-02-20T18:16:13.692Z"
   },
   {
    "duration": 48,
    "start_time": "2023-02-20T18:16:13.762Z"
   },
   {
    "duration": 71,
    "start_time": "2023-02-20T18:16:13.812Z"
   },
   {
    "duration": 5,
    "start_time": "2023-02-20T18:16:13.885Z"
   },
   {
    "duration": 14,
    "start_time": "2023-02-20T18:16:13.909Z"
   },
   {
    "duration": 7,
    "start_time": "2023-02-20T18:16:13.925Z"
   },
   {
    "duration": 165,
    "start_time": "2023-02-20T18:16:13.934Z"
   },
   {
    "duration": 10,
    "start_time": "2023-02-20T18:16:14.100Z"
   },
   {
    "duration": 38,
    "start_time": "2023-02-20T18:16:14.112Z"
   },
   {
    "duration": 3,
    "start_time": "2023-02-20T18:16:14.151Z"
   },
   {
    "duration": 10,
    "start_time": "2023-02-20T18:16:14.156Z"
   },
   {
    "duration": 15,
    "start_time": "2023-02-20T18:16:14.167Z"
   },
   {
    "duration": 27,
    "start_time": "2023-02-20T18:16:14.183Z"
   },
   {
    "duration": 11,
    "start_time": "2023-02-20T18:16:14.212Z"
   },
   {
    "duration": 13,
    "start_time": "2023-02-20T18:16:14.224Z"
   },
   {
    "duration": 21,
    "start_time": "2023-02-20T18:16:14.238Z"
   },
   {
    "duration": 6,
    "start_time": "2023-02-20T18:16:14.260Z"
   },
   {
    "duration": 50,
    "start_time": "2023-02-20T18:16:14.269Z"
   },
   {
    "duration": 8,
    "start_time": "2023-02-20T18:16:14.323Z"
   },
   {
    "duration": 11,
    "start_time": "2023-02-20T18:16:14.332Z"
   },
   {
    "duration": 11,
    "start_time": "2023-02-20T18:16:14.345Z"
   },
   {
    "duration": 14,
    "start_time": "2023-02-20T18:16:14.358Z"
   },
   {
    "duration": 69,
    "start_time": "2023-02-20T18:16:14.374Z"
   },
   {
    "duration": 365,
    "start_time": "2023-02-20T18:16:14.445Z"
   },
   {
    "duration": 299,
    "start_time": "2023-02-20T18:16:14.811Z"
   },
   {
    "duration": 287,
    "start_time": "2023-02-20T18:16:15.111Z"
   },
   {
    "duration": 282,
    "start_time": "2023-02-20T18:16:15.400Z"
   },
   {
    "duration": 268,
    "start_time": "2023-02-20T18:16:15.684Z"
   },
   {
    "duration": 22,
    "start_time": "2023-02-20T18:16:15.954Z"
   },
   {
    "duration": 13,
    "start_time": "2023-02-20T18:16:15.977Z"
   },
   {
    "duration": 21,
    "start_time": "2023-02-20T18:16:16.010Z"
   },
   {
    "duration": 305,
    "start_time": "2023-02-20T18:16:16.032Z"
   },
   {
    "duration": 9,
    "start_time": "2023-02-20T18:16:16.339Z"
   },
   {
    "duration": 19,
    "start_time": "2023-02-20T18:16:16.350Z"
   },
   {
    "duration": 46,
    "start_time": "2023-02-20T18:16:16.371Z"
   },
   {
    "duration": 19,
    "start_time": "2023-02-20T18:16:16.418Z"
   },
   {
    "duration": 22,
    "start_time": "2023-02-20T18:16:16.438Z"
   },
   {
    "duration": 51,
    "start_time": "2023-02-20T18:16:16.462Z"
   },
   {
    "duration": 20,
    "start_time": "2023-02-20T18:16:16.514Z"
   },
   {
    "duration": 131,
    "start_time": "2023-02-20T18:24:29.000Z"
   },
   {
    "duration": 356,
    "start_time": "2023-02-20T18:25:20.320Z"
   },
   {
    "duration": 153,
    "start_time": "2023-02-20T18:25:47.227Z"
   },
   {
    "duration": 22,
    "start_time": "2023-02-20T18:27:30.089Z"
   },
   {
    "duration": 1104,
    "start_time": "2023-02-20T18:28:20.624Z"
   },
   {
    "duration": 1607,
    "start_time": "2023-02-20T18:28:21.730Z"
   },
   {
    "duration": 18,
    "start_time": "2023-02-20T18:28:23.338Z"
   },
   {
    "duration": 14,
    "start_time": "2023-02-20T18:28:23.358Z"
   },
   {
    "duration": 20,
    "start_time": "2023-02-20T18:28:23.374Z"
   },
   {
    "duration": 27,
    "start_time": "2023-02-20T18:28:23.397Z"
   },
   {
    "duration": 13,
    "start_time": "2023-02-20T18:28:23.426Z"
   },
   {
    "duration": 75,
    "start_time": "2023-02-20T18:28:23.441Z"
   },
   {
    "duration": 9,
    "start_time": "2023-02-20T18:28:23.517Z"
   },
   {
    "duration": 21,
    "start_time": "2023-02-20T18:28:23.529Z"
   },
   {
    "duration": 84,
    "start_time": "2023-02-20T18:28:23.554Z"
   },
   {
    "duration": 11,
    "start_time": "2023-02-20T18:28:23.641Z"
   },
   {
    "duration": 84,
    "start_time": "2023-02-20T18:28:23.654Z"
   },
   {
    "duration": 8,
    "start_time": "2023-02-20T18:28:23.740Z"
   },
   {
    "duration": 25,
    "start_time": "2023-02-20T18:28:23.749Z"
   },
   {
    "duration": 35,
    "start_time": "2023-02-20T18:28:23.776Z"
   },
   {
    "duration": 108,
    "start_time": "2023-02-20T18:28:23.813Z"
   },
   {
    "duration": 9,
    "start_time": "2023-02-20T18:28:23.923Z"
   },
   {
    "duration": 38,
    "start_time": "2023-02-20T18:28:23.933Z"
   },
   {
    "duration": 176,
    "start_time": "2023-02-20T18:28:23.973Z"
   },
   {
    "duration": 13,
    "start_time": "2023-02-20T18:28:24.151Z"
   },
   {
    "duration": 114,
    "start_time": "2023-02-20T18:28:24.165Z"
   },
   {
    "duration": 69,
    "start_time": "2023-02-20T18:28:24.280Z"
   },
   {
    "duration": 36,
    "start_time": "2023-02-20T18:28:24.350Z"
   },
   {
    "duration": 141,
    "start_time": "2023-02-20T18:28:24.388Z"
   },
   {
    "duration": 6,
    "start_time": "2023-02-20T18:28:24.530Z"
   },
   {
    "duration": 12,
    "start_time": "2023-02-20T18:28:24.538Z"
   },
   {
    "duration": 7,
    "start_time": "2023-02-20T18:28:24.553Z"
   },
   {
    "duration": 192,
    "start_time": "2023-02-20T18:28:24.562Z"
   },
   {
    "duration": 5,
    "start_time": "2023-02-20T18:28:24.756Z"
   },
   {
    "duration": 52,
    "start_time": "2023-02-20T18:28:24.763Z"
   },
   {
    "duration": 5,
    "start_time": "2023-02-20T18:28:24.817Z"
   },
   {
    "duration": 5,
    "start_time": "2023-02-20T18:28:24.824Z"
   },
   {
    "duration": 5,
    "start_time": "2023-02-20T18:28:24.831Z"
   },
   {
    "duration": 20,
    "start_time": "2023-02-20T18:28:24.837Z"
   },
   {
    "duration": 15,
    "start_time": "2023-02-20T18:28:24.859Z"
   },
   {
    "duration": 36,
    "start_time": "2023-02-20T18:28:24.875Z"
   },
   {
    "duration": 21,
    "start_time": "2023-02-20T18:28:24.913Z"
   },
   {
    "duration": 7,
    "start_time": "2023-02-20T18:28:24.935Z"
   },
   {
    "duration": 23,
    "start_time": "2023-02-20T18:28:24.944Z"
   },
   {
    "duration": 41,
    "start_time": "2023-02-20T18:28:24.968Z"
   },
   {
    "duration": 11,
    "start_time": "2023-02-20T18:28:25.011Z"
   },
   {
    "duration": 18,
    "start_time": "2023-02-20T18:28:25.025Z"
   },
   {
    "duration": 15,
    "start_time": "2023-02-20T18:28:25.045Z"
   },
   {
    "duration": 79,
    "start_time": "2023-02-20T18:28:25.061Z"
   },
   {
    "duration": 364,
    "start_time": "2023-02-20T18:28:25.142Z"
   },
   {
    "duration": 263,
    "start_time": "2023-02-20T18:28:25.510Z"
   },
   {
    "duration": 272,
    "start_time": "2023-02-20T18:28:25.774Z"
   },
   {
    "duration": 274,
    "start_time": "2023-02-20T18:28:26.048Z"
   },
   {
    "duration": 269,
    "start_time": "2023-02-20T18:28:26.325Z"
   },
   {
    "duration": 29,
    "start_time": "2023-02-20T18:28:26.596Z"
   },
   {
    "duration": 13,
    "start_time": "2023-02-20T18:28:26.627Z"
   },
   {
    "duration": 27,
    "start_time": "2023-02-20T18:28:26.643Z"
   },
   {
    "duration": 200,
    "start_time": "2023-02-20T18:28:26.672Z"
   },
   {
    "duration": 38,
    "start_time": "2023-02-20T18:28:26.873Z"
   },
   {
    "duration": 370,
    "start_time": "2023-02-20T18:28:26.913Z"
   },
   {
    "duration": 11,
    "start_time": "2023-02-20T18:28:27.285Z"
   },
   {
    "duration": 24,
    "start_time": "2023-02-20T18:28:27.310Z"
   },
   {
    "duration": 29,
    "start_time": "2023-02-20T18:28:27.336Z"
   },
   {
    "duration": 51,
    "start_time": "2023-02-20T18:28:27.367Z"
   },
   {
    "duration": 24,
    "start_time": "2023-02-20T18:28:27.419Z"
   },
   {
    "duration": 22,
    "start_time": "2023-02-20T18:28:27.444Z"
   },
   {
    "duration": 55,
    "start_time": "2023-02-20T18:28:27.467Z"
   },
   {
    "duration": 22,
    "start_time": "2023-02-20T18:29:33.929Z"
   },
   {
    "duration": 149,
    "start_time": "2023-02-20T18:44:22.895Z"
   },
   {
    "duration": 183,
    "start_time": "2023-02-20T18:52:32.099Z"
   },
   {
    "duration": 12,
    "start_time": "2023-02-20T18:52:43.086Z"
   },
   {
    "duration": 11,
    "start_time": "2023-02-20T18:52:46.137Z"
   },
   {
    "duration": 14,
    "start_time": "2023-02-20T18:53:03.788Z"
   },
   {
    "duration": 15,
    "start_time": "2023-02-20T18:53:17.930Z"
   },
   {
    "duration": 21,
    "start_time": "2023-02-20T18:53:46.801Z"
   },
   {
    "duration": 17,
    "start_time": "2023-02-20T18:54:45.937Z"
   },
   {
    "duration": 11,
    "start_time": "2023-02-20T18:54:58.527Z"
   },
   {
    "duration": 19,
    "start_time": "2023-02-20T18:55:06.275Z"
   },
   {
    "duration": 16,
    "start_time": "2023-02-20T18:55:52.963Z"
   },
   {
    "duration": 15,
    "start_time": "2023-02-20T18:56:23.488Z"
   },
   {
    "duration": 14,
    "start_time": "2023-02-20T18:56:50.325Z"
   },
   {
    "duration": 361,
    "start_time": "2023-02-20T18:56:59.688Z"
   },
   {
    "duration": 16,
    "start_time": "2023-02-20T18:57:23.530Z"
   },
   {
    "duration": 44,
    "start_time": "2023-02-20T18:57:26.615Z"
   },
   {
    "duration": 16,
    "start_time": "2023-02-20T18:57:43.639Z"
   },
   {
    "duration": 47,
    "start_time": "2023-02-20T18:57:47.375Z"
   },
   {
    "duration": 15,
    "start_time": "2023-02-20T19:01:05.874Z"
   },
   {
    "duration": 16,
    "start_time": "2023-02-20T19:01:27.054Z"
   },
   {
    "duration": 47,
    "start_time": "2023-02-20T19:02:51.692Z"
   },
   {
    "duration": 16,
    "start_time": "2023-02-20T19:07:58.273Z"
   },
   {
    "duration": 44,
    "start_time": "2023-02-20T19:08:02.856Z"
   },
   {
    "duration": 15,
    "start_time": "2023-02-20T19:08:40.513Z"
   },
   {
    "duration": 48,
    "start_time": "2023-02-20T19:08:46.792Z"
   },
   {
    "duration": 16,
    "start_time": "2023-02-20T19:08:50.281Z"
   },
   {
    "duration": 43,
    "start_time": "2023-02-20T19:09:06.581Z"
   },
   {
    "duration": 18,
    "start_time": "2023-02-20T19:09:10.213Z"
   },
   {
    "duration": 46,
    "start_time": "2023-02-20T19:09:12.644Z"
   },
   {
    "duration": 52,
    "start_time": "2023-02-20T19:10:19.944Z"
   },
   {
    "duration": 20,
    "start_time": "2023-02-20T19:16:23.823Z"
   },
   {
    "duration": 3,
    "start_time": "2023-02-20T19:17:34.597Z"
   },
   {
    "duration": 21,
    "start_time": "2023-02-20T19:18:39.509Z"
   },
   {
    "duration": 22,
    "start_time": "2023-02-20T19:18:44.371Z"
   },
   {
    "duration": 40,
    "start_time": "2023-02-20T19:19:36.960Z"
   },
   {
    "duration": 24,
    "start_time": "2023-02-20T19:19:51.847Z"
   },
   {
    "duration": 60,
    "start_time": "2023-02-20T19:23:25.241Z"
   },
   {
    "duration": 52,
    "start_time": "2023-02-20T19:23:40.236Z"
   },
   {
    "duration": 68,
    "start_time": "2023-02-20T19:23:46.873Z"
   },
   {
    "duration": 119,
    "start_time": "2023-02-20T19:24:42.311Z"
   },
   {
    "duration": 50,
    "start_time": "2023-02-20T19:24:46.024Z"
   },
   {
    "duration": 61,
    "start_time": "2023-02-20T19:26:51.612Z"
   },
   {
    "duration": 84,
    "start_time": "2023-02-20T19:27:01.974Z"
   },
   {
    "duration": 67,
    "start_time": "2023-02-20T19:27:23.688Z"
   },
   {
    "duration": 23,
    "start_time": "2023-02-20T19:29:46.089Z"
   },
   {
    "duration": 22,
    "start_time": "2023-02-20T19:31:13.438Z"
   },
   {
    "duration": 24,
    "start_time": "2023-02-20T19:34:09.364Z"
   },
   {
    "duration": 20,
    "start_time": "2023-02-20T19:34:10.770Z"
   },
   {
    "duration": 21,
    "start_time": "2023-02-20T19:34:16.013Z"
   },
   {
    "duration": 41,
    "start_time": "2023-02-20T19:37:06.377Z"
   },
   {
    "duration": 1195,
    "start_time": "2023-02-20T19:38:13.792Z"
   },
   {
    "duration": 15115,
    "start_time": "2023-02-20T19:38:14.989Z"
   },
   {
    "duration": 14,
    "start_time": "2023-02-20T19:38:30.105Z"
   },
   {
    "duration": 17,
    "start_time": "2023-02-20T19:38:30.121Z"
   },
   {
    "duration": 14,
    "start_time": "2023-02-20T19:38:30.140Z"
   },
   {
    "duration": 23,
    "start_time": "2023-02-20T19:38:30.155Z"
   },
   {
    "duration": 9,
    "start_time": "2023-02-20T19:38:30.179Z"
   },
   {
    "duration": 80,
    "start_time": "2023-02-20T19:38:30.189Z"
   },
   {
    "duration": 6,
    "start_time": "2023-02-20T19:38:30.271Z"
   },
   {
    "duration": 50,
    "start_time": "2023-02-20T19:38:30.280Z"
   },
   {
    "duration": 87,
    "start_time": "2023-02-20T19:38:30.332Z"
   },
   {
    "duration": 10,
    "start_time": "2023-02-20T19:38:30.420Z"
   },
   {
    "duration": 67,
    "start_time": "2023-02-20T19:38:30.432Z"
   },
   {
    "duration": 6,
    "start_time": "2023-02-20T19:38:30.500Z"
   },
   {
    "duration": 47,
    "start_time": "2023-02-20T19:38:30.509Z"
   },
   {
    "duration": 16,
    "start_time": "2023-02-20T19:38:30.557Z"
   },
   {
    "duration": 117,
    "start_time": "2023-02-20T19:38:30.575Z"
   },
   {
    "duration": 6,
    "start_time": "2023-02-20T19:38:30.694Z"
   },
   {
    "duration": 45,
    "start_time": "2023-02-20T19:38:30.701Z"
   },
   {
    "duration": 151,
    "start_time": "2023-02-20T19:38:30.748Z"
   },
   {
    "duration": 17,
    "start_time": "2023-02-20T19:38:30.900Z"
   },
   {
    "duration": 71,
    "start_time": "2023-02-20T19:38:30.919Z"
   },
   {
    "duration": 62,
    "start_time": "2023-02-20T19:38:30.991Z"
   },
   {
    "duration": 63,
    "start_time": "2023-02-20T19:38:31.054Z"
   },
   {
    "duration": 77,
    "start_time": "2023-02-20T19:38:31.119Z"
   },
   {
    "duration": 15,
    "start_time": "2023-02-20T19:38:31.197Z"
   },
   {
    "duration": 35,
    "start_time": "2023-02-20T19:38:31.214Z"
   },
   {
    "duration": 29,
    "start_time": "2023-02-20T19:38:31.252Z"
   },
   {
    "duration": 188,
    "start_time": "2023-02-20T19:38:31.283Z"
   },
   {
    "duration": 5,
    "start_time": "2023-02-20T19:38:31.472Z"
   },
   {
    "duration": 38,
    "start_time": "2023-02-20T19:38:31.479Z"
   },
   {
    "duration": 22,
    "start_time": "2023-02-20T19:38:31.519Z"
   },
   {
    "duration": 19,
    "start_time": "2023-02-20T19:38:31.542Z"
   },
   {
    "duration": 29,
    "start_time": "2023-02-20T19:38:31.563Z"
   },
   {
    "duration": 24,
    "start_time": "2023-02-20T19:38:31.594Z"
   },
   {
    "duration": 27,
    "start_time": "2023-02-20T19:38:31.620Z"
   },
   {
    "duration": 10,
    "start_time": "2023-02-20T19:38:31.649Z"
   },
   {
    "duration": 22,
    "start_time": "2023-02-20T19:38:31.660Z"
   },
   {
    "duration": 7,
    "start_time": "2023-02-20T19:38:31.684Z"
   },
   {
    "duration": 80,
    "start_time": "2023-02-20T19:38:31.693Z"
   },
   {
    "duration": 7,
    "start_time": "2023-02-20T19:38:31.774Z"
   },
   {
    "duration": 25,
    "start_time": "2023-02-20T19:38:31.782Z"
   },
   {
    "duration": 22,
    "start_time": "2023-02-20T19:38:31.809Z"
   },
   {
    "duration": 12,
    "start_time": "2023-02-20T19:38:31.832Z"
   },
   {
    "duration": 32,
    "start_time": "2023-02-20T19:38:31.846Z"
   },
   {
    "duration": 331,
    "start_time": "2023-02-20T19:38:31.880Z"
   },
   {
    "duration": 300,
    "start_time": "2023-02-20T19:38:32.212Z"
   },
   {
    "duration": 259,
    "start_time": "2023-02-20T19:38:32.513Z"
   },
   {
    "duration": 301,
    "start_time": "2023-02-20T19:38:32.773Z"
   },
   {
    "duration": 271,
    "start_time": "2023-02-20T19:38:33.076Z"
   },
   {
    "duration": 22,
    "start_time": "2023-02-20T19:38:33.349Z"
   },
   {
    "duration": 14,
    "start_time": "2023-02-20T19:38:33.373Z"
   },
   {
    "duration": 41,
    "start_time": "2023-02-20T19:38:33.389Z"
   },
   {
    "duration": 149,
    "start_time": "2023-02-20T19:38:33.432Z"
   },
   {
    "duration": 309,
    "start_time": "2023-02-20T19:38:33.583Z"
   },
   {
    "duration": 16,
    "start_time": "2023-02-20T19:38:33.894Z"
   },
   {
    "duration": 20,
    "start_time": "2023-02-20T19:38:33.912Z"
   },
   {
    "duration": 19,
    "start_time": "2023-02-20T19:38:33.933Z"
   },
   {
    "duration": 60,
    "start_time": "2023-02-20T19:38:33.954Z"
   },
   {
    "duration": 228,
    "start_time": "2023-02-20T19:38:34.015Z"
   },
   {
    "duration": 24,
    "start_time": "2023-02-20T19:38:34.245Z"
   },
   {
    "duration": 49,
    "start_time": "2023-02-20T19:38:34.271Z"
   },
   {
    "duration": 21,
    "start_time": "2023-02-20T19:38:34.322Z"
   },
   {
    "duration": 1124,
    "start_time": "2023-02-20T19:44:47.833Z"
   },
   {
    "duration": 1894,
    "start_time": "2023-02-20T19:44:48.959Z"
   },
   {
    "duration": 13,
    "start_time": "2023-02-20T19:44:50.854Z"
   },
   {
    "duration": 13,
    "start_time": "2023-02-20T19:44:50.869Z"
   },
   {
    "duration": 10,
    "start_time": "2023-02-20T19:44:50.884Z"
   },
   {
    "duration": 26,
    "start_time": "2023-02-20T19:44:50.895Z"
   },
   {
    "duration": 8,
    "start_time": "2023-02-20T19:44:50.923Z"
   },
   {
    "duration": 55,
    "start_time": "2023-02-20T19:44:50.932Z"
   },
   {
    "duration": 24,
    "start_time": "2023-02-20T19:44:50.989Z"
   },
   {
    "duration": 15,
    "start_time": "2023-02-20T19:44:51.016Z"
   },
   {
    "duration": 83,
    "start_time": "2023-02-20T19:44:51.032Z"
   },
   {
    "duration": 11,
    "start_time": "2023-02-20T19:44:51.117Z"
   },
   {
    "duration": 61,
    "start_time": "2023-02-20T19:44:51.130Z"
   },
   {
    "duration": 6,
    "start_time": "2023-02-20T19:44:51.193Z"
   },
   {
    "duration": 27,
    "start_time": "2023-02-20T19:44:51.210Z"
   },
   {
    "duration": 19,
    "start_time": "2023-02-20T19:44:51.238Z"
   },
   {
    "duration": 118,
    "start_time": "2023-02-20T19:44:51.259Z"
   },
   {
    "duration": 7,
    "start_time": "2023-02-20T19:44:51.378Z"
   },
   {
    "duration": 50,
    "start_time": "2023-02-20T19:44:51.386Z"
   },
   {
    "duration": 159,
    "start_time": "2023-02-20T19:44:51.437Z"
   },
   {
    "duration": 18,
    "start_time": "2023-02-20T19:44:51.597Z"
   },
   {
    "duration": 102,
    "start_time": "2023-02-20T19:44:51.617Z"
   },
   {
    "duration": 60,
    "start_time": "2023-02-20T19:44:51.721Z"
   },
   {
    "duration": 57,
    "start_time": "2023-02-20T19:44:51.782Z"
   },
   {
    "duration": 93,
    "start_time": "2023-02-20T19:44:51.841Z"
   },
   {
    "duration": 6,
    "start_time": "2023-02-20T19:44:51.936Z"
   },
   {
    "duration": 22,
    "start_time": "2023-02-20T19:44:51.943Z"
   },
   {
    "duration": 11,
    "start_time": "2023-02-20T19:44:51.968Z"
   },
   {
    "duration": 159,
    "start_time": "2023-02-20T19:44:51.980Z"
   },
   {
    "duration": 5,
    "start_time": "2023-02-20T19:44:52.141Z"
   },
   {
    "duration": 35,
    "start_time": "2023-02-20T19:44:52.147Z"
   },
   {
    "duration": 5,
    "start_time": "2023-02-20T19:44:52.183Z"
   },
   {
    "duration": 20,
    "start_time": "2023-02-20T19:44:52.190Z"
   },
   {
    "duration": 8,
    "start_time": "2023-02-20T19:44:52.212Z"
   },
   {
    "duration": 13,
    "start_time": "2023-02-20T19:44:52.222Z"
   },
   {
    "duration": 13,
    "start_time": "2023-02-20T19:44:52.236Z"
   },
   {
    "duration": 10,
    "start_time": "2023-02-20T19:44:52.251Z"
   },
   {
    "duration": 20,
    "start_time": "2023-02-20T19:44:52.263Z"
   },
   {
    "duration": 6,
    "start_time": "2023-02-20T19:44:52.310Z"
   },
   {
    "duration": 42,
    "start_time": "2023-02-20T19:44:52.317Z"
   },
   {
    "duration": 9,
    "start_time": "2023-02-20T19:44:52.360Z"
   },
   {
    "duration": 20,
    "start_time": "2023-02-20T19:44:52.370Z"
   },
   {
    "duration": 19,
    "start_time": "2023-02-20T19:44:52.391Z"
   },
   {
    "duration": 9,
    "start_time": "2023-02-20T19:44:52.411Z"
   },
   {
    "duration": 40,
    "start_time": "2023-02-20T19:44:52.422Z"
   },
   {
    "duration": 359,
    "start_time": "2023-02-20T19:44:52.463Z"
   },
   {
    "duration": 308,
    "start_time": "2023-02-20T19:44:52.823Z"
   },
   {
    "duration": 295,
    "start_time": "2023-02-20T19:44:53.132Z"
   },
   {
    "duration": 277,
    "start_time": "2023-02-20T19:44:53.428Z"
   },
   {
    "duration": 268,
    "start_time": "2023-02-20T19:44:53.706Z"
   },
   {
    "duration": 23,
    "start_time": "2023-02-20T19:44:53.976Z"
   },
   {
    "duration": 14,
    "start_time": "2023-02-20T19:44:54.009Z"
   },
   {
    "duration": 20,
    "start_time": "2023-02-20T19:44:54.025Z"
   },
   {
    "duration": 163,
    "start_time": "2023-02-20T19:44:54.047Z"
   },
   {
    "duration": 309,
    "start_time": "2023-02-20T19:44:54.212Z"
   },
   {
    "duration": 12,
    "start_time": "2023-02-20T19:44:54.523Z"
   },
   {
    "duration": 27,
    "start_time": "2023-02-20T19:44:54.537Z"
   },
   {
    "duration": 18,
    "start_time": "2023-02-20T19:44:54.565Z"
   },
   {
    "duration": 40,
    "start_time": "2023-02-20T19:44:54.585Z"
   },
   {
    "duration": 222,
    "start_time": "2023-02-20T19:44:54.627Z"
   },
   {
    "duration": 24,
    "start_time": "2023-02-20T19:44:54.851Z"
   },
   {
    "duration": 49,
    "start_time": "2023-02-20T19:44:54.877Z"
   },
   {
    "duration": 23,
    "start_time": "2023-02-20T19:44:54.928Z"
   },
   {
    "duration": 36,
    "start_time": "2023-02-20T19:45:47.441Z"
   },
   {
    "duration": 24,
    "start_time": "2023-02-20T19:46:15.269Z"
   },
   {
    "duration": 1208,
    "start_time": "2023-02-20T20:35:13.904Z"
   },
   {
    "duration": 1583,
    "start_time": "2023-02-20T20:35:15.114Z"
   },
   {
    "duration": 13,
    "start_time": "2023-02-20T20:35:16.699Z"
   },
   {
    "duration": 21,
    "start_time": "2023-02-20T20:35:16.714Z"
   },
   {
    "duration": 18,
    "start_time": "2023-02-20T20:35:16.737Z"
   },
   {
    "duration": 30,
    "start_time": "2023-02-20T20:35:16.757Z"
   },
   {
    "duration": 9,
    "start_time": "2023-02-20T20:35:16.789Z"
   },
   {
    "duration": 61,
    "start_time": "2023-02-20T20:35:16.800Z"
   },
   {
    "duration": 8,
    "start_time": "2023-02-20T20:35:16.863Z"
   },
   {
    "duration": 25,
    "start_time": "2023-02-20T20:35:16.873Z"
   },
   {
    "duration": 90,
    "start_time": "2023-02-20T20:35:16.900Z"
   },
   {
    "duration": 11,
    "start_time": "2023-02-20T20:35:16.992Z"
   },
   {
    "duration": 77,
    "start_time": "2023-02-20T20:35:17.005Z"
   },
   {
    "duration": 7,
    "start_time": "2023-02-20T20:35:17.085Z"
   },
   {
    "duration": 43,
    "start_time": "2023-02-20T20:35:17.094Z"
   },
   {
    "duration": 7,
    "start_time": "2023-02-20T20:35:17.139Z"
   },
   {
    "duration": 103,
    "start_time": "2023-02-20T20:35:17.147Z"
   },
   {
    "duration": 8,
    "start_time": "2023-02-20T20:35:17.252Z"
   },
   {
    "duration": 58,
    "start_time": "2023-02-20T20:35:17.262Z"
   },
   {
    "duration": 195,
    "start_time": "2023-02-20T20:35:17.322Z"
   },
   {
    "duration": 19,
    "start_time": "2023-02-20T20:35:17.519Z"
   },
   {
    "duration": 54,
    "start_time": "2023-02-20T20:35:17.540Z"
   },
   {
    "duration": 73,
    "start_time": "2023-02-20T20:35:17.595Z"
   },
   {
    "duration": 37,
    "start_time": "2023-02-20T20:35:17.670Z"
   },
   {
    "duration": 93,
    "start_time": "2023-02-20T20:35:17.708Z"
   },
   {
    "duration": 6,
    "start_time": "2023-02-20T20:35:17.803Z"
   },
   {
    "duration": 26,
    "start_time": "2023-02-20T20:35:17.811Z"
   },
   {
    "duration": 7,
    "start_time": "2023-02-20T20:35:17.841Z"
   },
   {
    "duration": 188,
    "start_time": "2023-02-20T20:35:17.850Z"
   },
   {
    "duration": 5,
    "start_time": "2023-02-20T20:35:18.040Z"
   },
   {
    "duration": 47,
    "start_time": "2023-02-20T20:35:18.046Z"
   },
   {
    "duration": 4,
    "start_time": "2023-02-20T20:35:18.095Z"
   },
   {
    "duration": 21,
    "start_time": "2023-02-20T20:35:18.100Z"
   },
   {
    "duration": 30,
    "start_time": "2023-02-20T20:35:18.123Z"
   },
   {
    "duration": 21,
    "start_time": "2023-02-20T20:35:18.155Z"
   },
   {
    "duration": 20,
    "start_time": "2023-02-20T20:35:18.178Z"
   },
   {
    "duration": 30,
    "start_time": "2023-02-20T20:35:18.199Z"
   },
   {
    "duration": 27,
    "start_time": "2023-02-20T20:35:18.230Z"
   },
   {
    "duration": 7,
    "start_time": "2023-02-20T20:35:18.259Z"
   },
   {
    "duration": 39,
    "start_time": "2023-02-20T20:35:18.267Z"
   },
   {
    "duration": 8,
    "start_time": "2023-02-20T20:35:18.307Z"
   },
   {
    "duration": 25,
    "start_time": "2023-02-20T20:35:18.316Z"
   },
   {
    "duration": 16,
    "start_time": "2023-02-20T20:35:18.343Z"
   },
   {
    "duration": 14,
    "start_time": "2023-02-20T20:35:18.360Z"
   },
   {
    "duration": 30,
    "start_time": "2023-02-20T20:35:18.376Z"
   },
   {
    "duration": 365,
    "start_time": "2023-02-20T20:35:18.408Z"
   },
   {
    "duration": 308,
    "start_time": "2023-02-20T20:35:18.774Z"
   },
   {
    "duration": 293,
    "start_time": "2023-02-20T20:35:19.084Z"
   },
   {
    "duration": 279,
    "start_time": "2023-02-20T20:35:19.379Z"
   },
   {
    "duration": 284,
    "start_time": "2023-02-20T20:35:19.659Z"
   },
   {
    "duration": 22,
    "start_time": "2023-02-20T20:35:19.944Z"
   },
   {
    "duration": 13,
    "start_time": "2023-02-20T20:35:19.968Z"
   },
   {
    "duration": 46,
    "start_time": "2023-02-20T20:35:19.983Z"
   },
   {
    "duration": 160,
    "start_time": "2023-02-20T20:35:20.031Z"
   },
   {
    "duration": 404,
    "start_time": "2023-02-20T20:35:20.193Z"
   },
   {
    "duration": 11,
    "start_time": "2023-02-20T20:35:20.599Z"
   },
   {
    "duration": 34,
    "start_time": "2023-02-20T20:35:20.612Z"
   },
   {
    "duration": 24,
    "start_time": "2023-02-20T20:35:20.648Z"
   },
   {
    "duration": 23,
    "start_time": "2023-02-20T20:35:20.674Z"
   },
   {
    "duration": 482,
    "start_time": "2023-02-20T20:35:20.699Z"
   },
   {
    "duration": 60,
    "start_time": "2023-02-20T20:35:21.184Z"
   },
   {
    "duration": 25,
    "start_time": "2023-02-20T20:35:21.246Z"
   },
   {
    "duration": 22,
    "start_time": "2023-02-20T20:35:21.328Z"
   }
  ],
  "kernelspec": {
   "display_name": "Python 3 (ipykernel)",
   "language": "python",
   "name": "python3"
  },
  "language_info": {
   "codemirror_mode": {
    "name": "ipython",
    "version": 3
   },
   "file_extension": ".py",
   "mimetype": "text/x-python",
   "name": "python",
   "nbconvert_exporter": "python",
   "pygments_lexer": "ipython3",
   "version": "3.9.13"
  },
  "toc": {
   "base_numbering": 1,
   "nav_menu": {},
   "number_sections": true,
   "sideBar": true,
   "skip_h1_title": false,
   "title_cell": "Table of Contents",
   "title_sidebar": "Contents",
   "toc_cell": false,
   "toc_position": {
    "height": "calc(100% - 180px)",
    "left": "10px",
    "top": "150px",
    "width": "512px"
   },
   "toc_section_display": true,
   "toc_window_display": true
  }
 },
 "nbformat": 4,
 "nbformat_minor": 5
}
